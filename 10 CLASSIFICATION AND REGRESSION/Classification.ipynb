{
  "cells": [
    {
      "cell_type": "markdown",
      "metadata": {
        "id": "view-in-github",
        "colab_type": "text"
      },
      "source": [
        "<a href=\"https://colab.research.google.com/github/nramelia2/DATA-SCIENTIST/blob/main/10%20CLASSIFICATION%20AND%20REGRESSION/Classification.ipynb\" target=\"_parent\"><img src=\"https://colab.research.google.com/assets/colab-badge.svg\" alt=\"Open In Colab\"/></a>"
      ]
    },
    {
      "cell_type": "code",
      "execution_count": null,
      "metadata": {
        "id": "vFwUfUCPP9UY"
      },
      "outputs": [],
      "source": [
        "import itertools\n",
        "import numpy as np\n",
        "import matplotlib.pyplot as plt\n",
        "from matplotlib.ticker import NullFormatter\n",
        "import pandas as pd\n",
        "import numpy as np\n",
        "import matplotlib.ticker as ticker\n",
        "from sklearn import preprocessing\n",
        "%matplotlib inline"
      ]
    },
    {
      "cell_type": "code",
      "execution_count": null,
      "metadata": {
        "id": "JbPXNy48P9Uc",
        "outputId": "a099b5a5-67b4-4874-a683-5eae2ab66a73"
      },
      "outputs": [
        {
          "data": {
            "text/html": [
              "<div>\n",
              "<style scoped>\n",
              "    .dataframe tbody tr th:only-of-type {\n",
              "        vertical-align: middle;\n",
              "    }\n",
              "\n",
              "    .dataframe tbody tr th {\n",
              "        vertical-align: top;\n",
              "    }\n",
              "\n",
              "    .dataframe thead th {\n",
              "        text-align: right;\n",
              "    }\n",
              "</style>\n",
              "<table border=\"1\" class=\"dataframe\">\n",
              "  <thead>\n",
              "    <tr style=\"text-align: right;\">\n",
              "      <th></th>\n",
              "      <th>id</th>\n",
              "      <th>diagnosis</th>\n",
              "      <th>radius_mean</th>\n",
              "      <th>texture_mean</th>\n",
              "      <th>perimeter_mean</th>\n",
              "      <th>area_mean</th>\n",
              "      <th>smoothness_mean</th>\n",
              "      <th>compactness_mean</th>\n",
              "      <th>concavity_mean</th>\n",
              "      <th>concave points_mean</th>\n",
              "      <th>...</th>\n",
              "      <th>texture_worst</th>\n",
              "      <th>perimeter_worst</th>\n",
              "      <th>area_worst</th>\n",
              "      <th>smoothness_worst</th>\n",
              "      <th>compactness_worst</th>\n",
              "      <th>concavity_worst</th>\n",
              "      <th>concave points_worst</th>\n",
              "      <th>symmetry_worst</th>\n",
              "      <th>fractal_dimension_worst</th>\n",
              "      <th>Unnamed: 32</th>\n",
              "    </tr>\n",
              "  </thead>\n",
              "  <tbody>\n",
              "    <tr>\n",
              "      <th>0</th>\n",
              "      <td>842302</td>\n",
              "      <td>M</td>\n",
              "      <td>17.99</td>\n",
              "      <td>10.38</td>\n",
              "      <td>122.80</td>\n",
              "      <td>1001.0</td>\n",
              "      <td>0.11840</td>\n",
              "      <td>0.27760</td>\n",
              "      <td>0.3001</td>\n",
              "      <td>0.14710</td>\n",
              "      <td>...</td>\n",
              "      <td>17.33</td>\n",
              "      <td>184.60</td>\n",
              "      <td>2019.0</td>\n",
              "      <td>0.1622</td>\n",
              "      <td>0.6656</td>\n",
              "      <td>0.7119</td>\n",
              "      <td>0.2654</td>\n",
              "      <td>0.4601</td>\n",
              "      <td>0.11890</td>\n",
              "      <td>NaN</td>\n",
              "    </tr>\n",
              "    <tr>\n",
              "      <th>1</th>\n",
              "      <td>842517</td>\n",
              "      <td>M</td>\n",
              "      <td>20.57</td>\n",
              "      <td>17.77</td>\n",
              "      <td>132.90</td>\n",
              "      <td>1326.0</td>\n",
              "      <td>0.08474</td>\n",
              "      <td>0.07864</td>\n",
              "      <td>0.0869</td>\n",
              "      <td>0.07017</td>\n",
              "      <td>...</td>\n",
              "      <td>23.41</td>\n",
              "      <td>158.80</td>\n",
              "      <td>1956.0</td>\n",
              "      <td>0.1238</td>\n",
              "      <td>0.1866</td>\n",
              "      <td>0.2416</td>\n",
              "      <td>0.1860</td>\n",
              "      <td>0.2750</td>\n",
              "      <td>0.08902</td>\n",
              "      <td>NaN</td>\n",
              "    </tr>\n",
              "    <tr>\n",
              "      <th>2</th>\n",
              "      <td>84300903</td>\n",
              "      <td>M</td>\n",
              "      <td>19.69</td>\n",
              "      <td>21.25</td>\n",
              "      <td>130.00</td>\n",
              "      <td>1203.0</td>\n",
              "      <td>0.10960</td>\n",
              "      <td>0.15990</td>\n",
              "      <td>0.1974</td>\n",
              "      <td>0.12790</td>\n",
              "      <td>...</td>\n",
              "      <td>25.53</td>\n",
              "      <td>152.50</td>\n",
              "      <td>1709.0</td>\n",
              "      <td>0.1444</td>\n",
              "      <td>0.4245</td>\n",
              "      <td>0.4504</td>\n",
              "      <td>0.2430</td>\n",
              "      <td>0.3613</td>\n",
              "      <td>0.08758</td>\n",
              "      <td>NaN</td>\n",
              "    </tr>\n",
              "    <tr>\n",
              "      <th>3</th>\n",
              "      <td>84348301</td>\n",
              "      <td>M</td>\n",
              "      <td>11.42</td>\n",
              "      <td>20.38</td>\n",
              "      <td>77.58</td>\n",
              "      <td>386.1</td>\n",
              "      <td>0.14250</td>\n",
              "      <td>0.28390</td>\n",
              "      <td>0.2414</td>\n",
              "      <td>0.10520</td>\n",
              "      <td>...</td>\n",
              "      <td>26.50</td>\n",
              "      <td>98.87</td>\n",
              "      <td>567.7</td>\n",
              "      <td>0.2098</td>\n",
              "      <td>0.8663</td>\n",
              "      <td>0.6869</td>\n",
              "      <td>0.2575</td>\n",
              "      <td>0.6638</td>\n",
              "      <td>0.17300</td>\n",
              "      <td>NaN</td>\n",
              "    </tr>\n",
              "    <tr>\n",
              "      <th>4</th>\n",
              "      <td>84358402</td>\n",
              "      <td>M</td>\n",
              "      <td>20.29</td>\n",
              "      <td>14.34</td>\n",
              "      <td>135.10</td>\n",
              "      <td>1297.0</td>\n",
              "      <td>0.10030</td>\n",
              "      <td>0.13280</td>\n",
              "      <td>0.1980</td>\n",
              "      <td>0.10430</td>\n",
              "      <td>...</td>\n",
              "      <td>16.67</td>\n",
              "      <td>152.20</td>\n",
              "      <td>1575.0</td>\n",
              "      <td>0.1374</td>\n",
              "      <td>0.2050</td>\n",
              "      <td>0.4000</td>\n",
              "      <td>0.1625</td>\n",
              "      <td>0.2364</td>\n",
              "      <td>0.07678</td>\n",
              "      <td>NaN</td>\n",
              "    </tr>\n",
              "  </tbody>\n",
              "</table>\n",
              "<p>5 rows × 33 columns</p>\n",
              "</div>"
            ],
            "text/plain": [
              "         id diagnosis  radius_mean  texture_mean  perimeter_mean  area_mean  \\\n",
              "0    842302         M        17.99         10.38          122.80     1001.0   \n",
              "1    842517         M        20.57         17.77          132.90     1326.0   \n",
              "2  84300903         M        19.69         21.25          130.00     1203.0   \n",
              "3  84348301         M        11.42         20.38           77.58      386.1   \n",
              "4  84358402         M        20.29         14.34          135.10     1297.0   \n",
              "\n",
              "   smoothness_mean  compactness_mean  concavity_mean  concave points_mean  \\\n",
              "0          0.11840           0.27760          0.3001              0.14710   \n",
              "1          0.08474           0.07864          0.0869              0.07017   \n",
              "2          0.10960           0.15990          0.1974              0.12790   \n",
              "3          0.14250           0.28390          0.2414              0.10520   \n",
              "4          0.10030           0.13280          0.1980              0.10430   \n",
              "\n",
              "   ...  texture_worst  perimeter_worst  area_worst  smoothness_worst  \\\n",
              "0  ...          17.33           184.60      2019.0            0.1622   \n",
              "1  ...          23.41           158.80      1956.0            0.1238   \n",
              "2  ...          25.53           152.50      1709.0            0.1444   \n",
              "3  ...          26.50            98.87       567.7            0.2098   \n",
              "4  ...          16.67           152.20      1575.0            0.1374   \n",
              "\n",
              "   compactness_worst  concavity_worst  concave points_worst  symmetry_worst  \\\n",
              "0             0.6656           0.7119                0.2654          0.4601   \n",
              "1             0.1866           0.2416                0.1860          0.2750   \n",
              "2             0.4245           0.4504                0.2430          0.3613   \n",
              "3             0.8663           0.6869                0.2575          0.6638   \n",
              "4             0.2050           0.4000                0.1625          0.2364   \n",
              "\n",
              "   fractal_dimension_worst  Unnamed: 32  \n",
              "0                  0.11890          NaN  \n",
              "1                  0.08902          NaN  \n",
              "2                  0.08758          NaN  \n",
              "3                  0.17300          NaN  \n",
              "4                  0.07678          NaN  \n",
              "\n",
              "[5 rows x 33 columns]"
            ]
          },
          "execution_count": 142,
          "metadata": {},
          "output_type": "execute_result"
        }
      ],
      "source": [
        "df = pd.read_csv('cancer.csv')\n",
        "df.head()"
      ]
    },
    {
      "cell_type": "code",
      "execution_count": null,
      "metadata": {
        "id": "fviEyNcCP9Ue",
        "outputId": "e3e4861a-2de9-43b5-8090-e81dff7f7165"
      },
      "outputs": [
        {
          "data": {
            "text/plain": [
              "B    357\n",
              "M    212\n",
              "Name: diagnosis, dtype: int64"
            ]
          },
          "execution_count": 143,
          "metadata": {},
          "output_type": "execute_result"
        }
      ],
      "source": [
        "df['diagnosis'].value_counts()"
      ]
    },
    {
      "cell_type": "code",
      "execution_count": null,
      "metadata": {
        "id": "JE01-12qP9Uf",
        "outputId": "b54509e9-8e6f-4c21-bd65-8cc1742ca05c"
      },
      "outputs": [
        {
          "data": {
            "text/plain": [
              "array([[<AxesSubplot:title={'center':'radius_mean'}>]], dtype=object)"
            ]
          },
          "execution_count": 144,
          "metadata": {},
          "output_type": "execute_result"
        },
        {
          "data": {
            "image/png": "[encoded data removed]",
            "text/plain": [
              "<Figure size 432x288 with 1 Axes>"
            ]
          },
          "metadata": {
            "needs_background": "light"
          },
          "output_type": "display_data"
        }
      ],
      "source": [
        "df.hist(column='radius_mean', bins=50)"
      ]
    },
    {
      "cell_type": "code",
      "execution_count": null,
      "metadata": {
        "id": "0EkYaFLkP9Ug",
        "outputId": "d939efa4-fe36-4bad-fa91-b15060e3f26a"
      },
      "outputs": [
        {
          "data": {
            "text/plain": [
              "Index(['id', 'diagnosis', 'radius_mean', 'texture_mean', 'perimeter_mean',\n",
              "       'area_mean', 'smoothness_mean', 'compactness_mean', 'concavity_mean',\n",
              "       'concave points_mean', 'symmetry_mean', 'fractal_dimension_mean',\n",
              "       'radius_se', 'texture_se', 'perimeter_se', 'area_se', 'smoothness_se',\n",
              "       'compactness_se', 'concavity_se', 'concave points_se', 'symmetry_se',\n",
              "       'fractal_dimension_se', 'radius_worst', 'texture_worst',\n",
              "       'perimeter_worst', 'area_worst', 'smoothness_worst',\n",
              "       'compactness_worst', 'concavity_worst', 'concave points_worst',\n",
              "       'symmetry_worst', 'fractal_dimension_worst', 'Unnamed: 32'],\n",
              "      dtype='object')"
            ]
          },
          "execution_count": 145,
          "metadata": {},
          "output_type": "execute_result"
        }
      ],
      "source": [
        "df.columns"
      ]
    },
    {
      "cell_type": "code",
      "execution_count": null,
      "metadata": {
        "id": "WW-_qJGNP9Uh",
        "outputId": "6482ae15-7bb7-4912-cc18-4b2dac8464da"
      },
      "outputs": [
        {
          "data": {
            "text/plain": [
              "array([[8.4230200e+05, 1.7990000e+01, 1.0380000e+01, 1.2280000e+02,\n",
              "        1.0010000e+03, 1.1840000e-01, 2.7760000e-01, 3.0010000e-01,\n",
              "        1.4710000e-01, 2.4190000e-01, 7.8710000e-02, 1.0950000e+00,\n",
              "        9.0530000e-01, 8.5890000e+00, 1.5340000e+02, 6.3990000e-03,\n",
              "        4.9040000e-02, 5.3730000e-02, 1.5870000e-02, 3.0030000e-02,\n",
              "        6.1930000e-03, 2.5380000e+01, 1.7330000e+01, 1.8460000e+02,\n",
              "        2.0190000e+03, 1.6220000e-01, 6.6560000e-01, 7.1190000e-01,\n",
              "        2.6540000e-01, 4.6010000e-01, 1.1890000e-01],\n",
              "       [8.4251700e+05, 2.0570000e+01, 1.7770000e+01, 1.3290000e+02,\n",
              "        1.3260000e+03, 8.4740000e-02, 7.8640000e-02, 8.6900000e-02,\n",
              "        7.0170000e-02, 1.8120000e-01, 5.6670000e-02, 5.4350000e-01,\n",
              "        7.3390000e-01, 3.3980000e+00, 7.4080000e+01, 5.2250000e-03,\n",
              "        1.3080000e-02, 1.8600000e-02, 1.3400000e-02, 1.3890000e-02,\n",
              "        3.5320000e-03, 2.4990000e+01, 2.3410000e+01, 1.5880000e+02,\n",
              "        1.9560000e+03, 1.2380000e-01, 1.8660000e-01, 2.4160000e-01,\n",
              "        1.8600000e-01, 2.7500000e-01, 8.9020000e-02],\n",
              "       [8.4300903e+07, 1.9690000e+01, 2.1250000e+01, 1.3000000e+02,\n",
              "        1.2030000e+03, 1.0960000e-01, 1.5990000e-01, 1.9740000e-01,\n",
              "        1.2790000e-01, 2.0690000e-01, 5.9990000e-02, 7.4560000e-01,\n",
              "        7.8690000e-01, 4.5850000e+00, 9.4030000e+01, 6.1500000e-03,\n",
              "        4.0060000e-02, 3.8320000e-02, 2.0580000e-02, 2.2500000e-02,\n",
              "        4.5710000e-03, 2.3570000e+01, 2.5530000e+01, 1.5250000e+02,\n",
              "        1.7090000e+03, 1.4440000e-01, 4.2450000e-01, 4.5040000e-01,\n",
              "        2.4300000e-01, 3.6130000e-01, 8.7580000e-02],\n",
              "       [8.4348301e+07, 1.1420000e+01, 2.0380000e+01, 7.7580000e+01,\n",
              "        3.8610000e+02, 1.4250000e-01, 2.8390000e-01, 2.4140000e-01,\n",
              "        1.0520000e-01, 2.5970000e-01, 9.7440000e-02, 4.9560000e-01,\n",
              "        1.1560000e+00, 3.4450000e+00, 2.7230000e+01, 9.1100000e-03,\n",
              "        7.4580000e-02, 5.6610000e-02, 1.8670000e-02, 5.9630000e-02,\n",
              "        9.2080000e-03, 1.4910000e+01, 2.6500000e+01, 9.8870000e+01,\n",
              "        5.6770000e+02, 2.0980000e-01, 8.6630000e-01, 6.8690000e-01,\n",
              "        2.5750000e-01, 6.6380000e-01, 1.7300000e-01],\n",
              "       [8.4358402e+07, 2.0290000e+01, 1.4340000e+01, 1.3510000e+02,\n",
              "        1.2970000e+03, 1.0030000e-01, 1.3280000e-01, 1.9800000e-01,\n",
              "        1.0430000e-01, 1.8090000e-01, 5.8830000e-02, 7.5720000e-01,\n",
              "        7.8130000e-01, 5.4380000e+00, 9.4440000e+01, 1.1490000e-02,\n",
              "        2.4610000e-02, 5.6880000e-02, 1.8850000e-02, 1.7560000e-02,\n",
              "        5.1150000e-03, 2.2540000e+01, 1.6670000e+01, 1.5220000e+02,\n",
              "        1.5750000e+03, 1.3740000e-01, 2.0500000e-01, 4.0000000e-01,\n",
              "        1.6250000e-01, 2.3640000e-01, 7.6780000e-02],\n",
              "       [8.4378600e+05, 1.2450000e+01, 1.5700000e+01, 8.2570000e+01,\n",
              "        4.7710000e+02, 1.2780000e-01, 1.7000000e-01, 1.5780000e-01,\n",
              "        8.0890000e-02, 2.0870000e-01, 7.6130000e-02, 3.3450000e-01,\n",
              "        8.9020000e-01, 2.2170000e+00, 2.7190000e+01, 7.5100000e-03,\n",
              "        3.3450000e-02, 3.6720000e-02, 1.1370000e-02, 2.1650000e-02,\n",
              "        5.0820000e-03, 1.5470000e+01, 2.3750000e+01, 1.0340000e+02,\n",
              "        7.4160000e+02, 1.7910000e-01, 5.2490000e-01, 5.3550000e-01,\n",
              "        1.7410000e-01, 3.9850000e-01, 1.2440000e-01],\n",
              "       [8.4435900e+05, 1.8250000e+01, 1.9980000e+01, 1.1960000e+02,\n",
              "        1.0400000e+03, 9.4630000e-02, 1.0900000e-01, 1.1270000e-01,\n",
              "        7.4000000e-02, 1.7940000e-01, 5.7420000e-02, 4.4670000e-01,\n",
              "        7.7320000e-01, 3.1800000e+00, 5.3910000e+01, 4.3140000e-03,\n",
              "        1.3820000e-02, 2.2540000e-02, 1.0390000e-02, 1.3690000e-02,\n",
              "        2.1790000e-03, 2.2880000e+01, 2.7660000e+01, 1.5320000e+02,\n",
              "        1.6060000e+03, 1.4420000e-01, 2.5760000e-01, 3.7840000e-01,\n",
              "        1.9320000e-01, 3.0630000e-01, 8.3680000e-02],\n",
              "       [8.4458202e+07, 1.3710000e+01, 2.0830000e+01, 9.0200000e+01,\n",
              "        5.7790000e+02, 1.1890000e-01, 1.6450000e-01, 9.3660000e-02,\n",
              "        5.9850000e-02, 2.1960000e-01, 7.4510000e-02, 5.8350000e-01,\n",
              "        1.3770000e+00, 3.8560000e+00, 5.0960000e+01, 8.8050000e-03,\n",
              "        3.0290000e-02, 2.4880000e-02, 1.4480000e-02, 1.4860000e-02,\n",
              "        5.4120000e-03, 1.7060000e+01, 2.8140000e+01, 1.1060000e+02,\n",
              "        8.9700000e+02, 1.6540000e-01, 3.6820000e-01, 2.6780000e-01,\n",
              "        1.5560000e-01, 3.1960000e-01, 1.1510000e-01],\n",
              "       [8.4498100e+05, 1.3000000e+01, 2.1820000e+01, 8.7500000e+01,\n",
              "        5.1980000e+02, 1.2730000e-01, 1.9320000e-01, 1.8590000e-01,\n",
              "        9.3530000e-02, 2.3500000e-01, 7.3890000e-02, 3.0630000e-01,\n",
              "        1.0020000e+00, 2.4060000e+00, 2.4320000e+01, 5.7310000e-03,\n",
              "        3.5020000e-02, 3.5530000e-02, 1.2260000e-02, 2.1430000e-02,\n",
              "        3.7490000e-03, 1.5490000e+01, 3.0730000e+01, 1.0620000e+02,\n",
              "        7.3930000e+02, 1.7030000e-01, 5.4010000e-01, 5.3900000e-01,\n",
              "        2.0600000e-01, 4.3780000e-01, 1.0720000e-01],\n",
              "       [8.4501001e+07, 1.2460000e+01, 2.4040000e+01, 8.3970000e+01,\n",
              "        4.7590000e+02, 1.1860000e-01, 2.3960000e-01, 2.2730000e-01,\n",
              "        8.5430000e-02, 2.0300000e-01, 8.2430000e-02, 2.9760000e-01,\n",
              "        1.5990000e+00, 2.0390000e+00, 2.3940000e+01, 7.1490000e-03,\n",
              "        7.2170000e-02, 7.7430000e-02, 1.4320000e-02, 1.7890000e-02,\n",
              "        1.0080000e-02, 1.5090000e+01, 4.0680000e+01, 9.7650000e+01,\n",
              "        7.1140000e+02, 1.8530000e-01, 1.0580000e+00, 1.1050000e+00,\n",
              "        2.2100000e-01, 4.3660000e-01, 2.0750000e-01]])"
            ]
          },
          "execution_count": 146,
          "metadata": {},
          "output_type": "execute_result"
        }
      ],
      "source": [
        "X = df[['id', 'radius_mean', 'texture_mean', 'perimeter_mean',\n",
        "       'area_mean', 'smoothness_mean', 'compactness_mean', 'concavity_mean',\n",
        "       'concave points_mean', 'symmetry_mean', 'fractal_dimension_mean',\n",
        "       'radius_se', 'texture_se', 'perimeter_se', 'area_se', 'smoothness_se',\n",
        "       'compactness_se', 'concavity_se', 'concave points_se', 'symmetry_se',\n",
        "       'fractal_dimension_se', 'radius_worst', 'texture_worst',\n",
        "       'perimeter_worst', 'area_worst', 'smoothness_worst',\n",
        "       'compactness_worst', 'concavity_worst', 'concave points_worst',\n",
        "       'symmetry_worst', 'fractal_dimension_worst']] .values  #.astype(float)\n",
        "X[0:10]\n"
      ]
    },
    {
      "cell_type": "code",
      "execution_count": null,
      "metadata": {
        "id": "wZSpt_CkP9Ui",
        "outputId": "9ee49e4b-eca6-4e15-baa0-bd4ebfd1829e"
      },
      "outputs": [
        {
          "data": {
            "text/plain": [
              "array(['M', 'M', 'M', 'M', 'M', 'M', 'M', 'M', 'M', 'M', 'M', 'M', 'M',\n",
              "       'M', 'M', 'M', 'M', 'M', 'M', 'B'], dtype=object)"
            ]
          },
          "execution_count": 147,
          "metadata": {},
          "output_type": "execute_result"
        }
      ],
      "source": [
        "y = df['diagnosis'].values\n",
        "y[0:20]"
      ]
    },
    {
      "cell_type": "code",
      "execution_count": null,
      "metadata": {
        "id": "TuAy-7kJP9Uj",
        "outputId": "b60f0131-9789-4b70-c9be-ed20432eb68f"
      },
      "outputs": [
        {
          "data": {
            "text/plain": [
              "array([[-2.36405166e-01,  1.09706398e+00, -2.07333501e+00,\n",
              "         1.26993369e+00,  9.84374905e-01,  1.56846633e+00,\n",
              "         3.28351467e+00,  2.65287398e+00,  2.53247522e+00,\n",
              "         2.21751501e+00,  2.25574689e+00,  2.48973393e+00,\n",
              "        -5.65265059e-01,  2.83303087e+00,  2.48757756e+00,\n",
              "        -2.14001647e-01,  1.31686157e+00,  7.24026158e-01,\n",
              "         6.60819941e-01,  1.14875667e+00,  9.07083081e-01,\n",
              "         1.88668963e+00, -1.35929347e+00,  2.30360062e+00,\n",
              "         2.00123749e+00,  1.30768627e+00,  2.61666502e+00,\n",
              "         2.10952635e+00,  2.29607613e+00,  2.75062224e+00,\n",
              "         1.93701461e+00],\n",
              "       [-2.36403445e-01,  1.82982061e+00, -3.53632408e-01,\n",
              "         1.68595471e+00,  1.90870825e+00, -8.26962447e-01,\n",
              "        -4.87071673e-01, -2.38458552e-02,  5.48144156e-01,\n",
              "         1.39236330e-03, -8.68652457e-01,  4.99254601e-01,\n",
              "        -8.76243603e-01,  2.63326966e-01,  7.42401948e-01,\n",
              "        -6.05350847e-01, -6.92926270e-01, -4.40780058e-01,\n",
              "         2.60162067e-01, -8.05450380e-01, -9.94437403e-02,\n",
              "         1.80592744e+00, -3.69203222e-01,  1.53512599e+00,\n",
              "         1.89048899e+00, -3.75611957e-01, -4.30444219e-01,\n",
              "        -1.46748968e-01,  1.08708430e+00, -2.43889668e-01,\n",
              "         2.81189987e-01],\n",
              "       [ 4.31741086e-01,  1.57988811e+00,  4.56186952e-01,\n",
              "         1.56650313e+00,  1.55888363e+00,  9.42210440e-01,\n",
              "         1.05292554e+00,  1.36347845e+00,  2.03723076e+00,\n",
              "         9.39684817e-01, -3.98007910e-01,  1.22867595e+00,\n",
              "        -7.80083377e-01,  8.50928301e-01,  1.18133606e+00,\n",
              "        -2.97005012e-01,  8.14973504e-01,  2.13076435e-01,\n",
              "         1.42482747e+00,  2.37035535e-01,  2.93559404e-01,\n",
              "         1.51187025e+00, -2.39743838e-02,  1.34747521e+00,\n",
              "         1.45628455e+00,  5.27407405e-01,  1.08293217e+00,\n",
              "         8.54973944e-01,  1.95500035e+00,  1.15225500e+00,\n",
              "         2.01391209e-01],\n",
              "       [ 4.32120542e-01, -7.68909287e-01,  2.53732112e-01,\n",
              "        -5.92687167e-01, -7.64463792e-01,  3.28355348e+00,\n",
              "         3.40290899e+00,  1.91589718e+00,  1.45170736e+00,\n",
              "         2.86738293e+00,  4.91091929e+00,  3.26373441e-01,\n",
              "        -1.10409044e-01,  2.86593405e-01, -2.88378148e-01,\n",
              "         6.89701660e-01,  2.74428041e+00,  8.19518384e-01,\n",
              "         1.11500701e+00,  4.73268037e+00,  2.04751088e+00,\n",
              "        -2.81464464e-01,  1.33984094e-01, -2.49939304e-01,\n",
              "        -5.50021228e-01,  3.39427470e+00,  3.89339743e+00,\n",
              "         1.98958826e+00,  2.17578601e+00,  6.04604135e+00,\n",
              "         4.93501034e+00],\n",
              "       [ 4.32201407e-01,  1.75029663e+00, -1.15181643e+00,\n",
              "         1.77657315e+00,  1.82622928e+00,  2.80371830e-01,\n",
              "         5.39340452e-01,  1.37101143e+00,  1.42849277e+00,\n",
              "        -9.56046689e-03, -5.62449981e-01,  1.27054278e+00,\n",
              "        -7.90243702e-01,  1.27318941e+00,  1.19035676e+00,\n",
              "         1.48306716e+00, -4.85198799e-02,  8.28470780e-01,\n",
              "         1.14420474e+00, -3.61092272e-01,  4.99328134e-01,\n",
              "         1.29857524e+00, -1.46677038e+00,  1.33853946e+00,\n",
              "         1.22072425e+00,  2.20556166e-01, -3.13394511e-01,\n",
              "         6.13178758e-01,  7.29259257e-01, -8.68352984e-01,\n",
              "        -3.97099619e-01]])"
            ]
          },
          "execution_count": 148,
          "metadata": {},
          "output_type": "execute_result"
        }
      ],
      "source": [
        "X = preprocessing.StandardScaler().fit(X).transform(X.astype(float))\n",
        "X[0:5]"
      ]
    },
    {
      "cell_type": "code",
      "execution_count": null,
      "metadata": {
        "id": "U8PPft0-P9Uk",
        "outputId": "65a6f89c-a6cf-44da-ea80-add4c6fec98d"
      },
      "outputs": [
        {
          "name": "stdout",
          "output_type": "stream",
          "text": [
            "Train set: (455, 31) (455,)\n",
            "Test set: (114, 31) (114,)\n"
          ]
        }
      ],
      "source": [
        "from sklearn.model_selection import train_test_split\n",
        "X_train, X_test, y_train, y_test = train_test_split( X, y, test_size=0.2, random_state=4)\n",
        "print ('Train set:', X_train.shape,  y_train.shape)\n",
        "print ('Test set:', X_test.shape,  y_test.shape)"
      ]
    },
    {
      "cell_type": "markdown",
      "metadata": {
        "id": "xoCE4u2pP9Ul"
      },
      "source": [
        "### K Nearest Neighbor (K-NN)"
      ]
    },
    {
      "cell_type": "code",
      "execution_count": null,
      "metadata": {
        "id": "NV1gnkOzP9Un"
      },
      "outputs": [],
      "source": [
        "from sklearn.neighbors import KNeighborsClassifier"
      ]
    },
    {
      "cell_type": "code",
      "execution_count": null,
      "metadata": {
        "id": "8i79osv4P9Uo",
        "outputId": "8dcf4a6e-9177-4819-d08e-5daa0e980c8a"
      },
      "outputs": [
        {
          "data": {
            "text/plain": [
              "KNeighborsClassifier(n_neighbors=3)"
            ]
          },
          "execution_count": 151,
          "metadata": {},
          "output_type": "execute_result"
        }
      ],
      "source": [
        "k = 3\n",
        "#Train Model and Predict  \n",
        "neigh = KNeighborsClassifier(n_neighbors = k).fit(X_train,y_train)\n",
        "neigh"
      ]
    },
    {
      "cell_type": "code",
      "execution_count": null,
      "metadata": {
        "id": "AOzesOZ_P9Up",
        "outputId": "34301458-9bed-401e-e3b3-e81b68e54694"
      },
      "outputs": [
        {
          "data": {
            "text/plain": [
              "array(['B', 'B', 'M', 'M', 'B', 'B', 'B', 'B', 'B', 'B', 'M', 'B', 'B',\n",
              "       'B', 'B', 'B', 'B', 'B', 'B', 'B', 'B', 'B', 'M', 'B', 'B', 'M',\n",
              "       'B', 'B', 'B', 'B', 'B', 'B', 'B', 'B', 'B', 'M', 'B', 'M', 'M',\n",
              "       'M', 'B', 'B', 'M', 'B', 'B', 'B', 'B', 'M', 'B', 'M'],\n",
              "      dtype=object)"
            ]
          },
          "execution_count": 152,
          "metadata": {},
          "output_type": "execute_result"
        }
      ],
      "source": [
        "yhat = neigh.predict(X_test)\n",
        "yhat[0:50]"
      ]
    },
    {
      "cell_type": "code",
      "execution_count": null,
      "metadata": {
        "id": "lDVDneEZP9Up",
        "outputId": "63840e80-7635-4ded-92c2-14ef578245be"
      },
      "outputs": [
        {
          "name": "stdout",
          "output_type": "stream",
          "text": [
            "Train set Accuracy:  0.9802197802197802\n",
            "Test set Accuracy:  0.9736842105263158\n"
          ]
        }
      ],
      "source": [
        "from sklearn import metrics\n",
        "print(\"Train set Accuracy: \", metrics.accuracy_score(y_train, neigh.predict(X_train)))\n",
        "print(\"Test set Accuracy: \", metrics.accuracy_score(y_test, yhat))"
      ]
    },
    {
      "cell_type": "code",
      "execution_count": null,
      "metadata": {
        "id": "akMahEj1P9Uq",
        "outputId": "8e9ad2ba-4c11-4aa5-94d5-14d4a94beba7"
      },
      "outputs": [
        {
          "data": {
            "text/plain": [
              "array([0.94736842, 0.97368421, 0.97368421, 0.97368421, 0.96491228,\n",
              "       0.97368421, 0.95614035, 0.97368421, 0.98245614, 0.98245614])"
            ]
          },
          "execution_count": 154,
          "metadata": {},
          "output_type": "execute_result"
        }
      ],
      "source": [
        "Ks = 11\n",
        "mean_acc = np.zeros((Ks-1))\n",
        "std_acc = np.zeros((Ks-1))\n",
        "ConfustionMx = [];\n",
        "for n in range(1,Ks):\n",
        "    \n",
        "    #Train Model and Predict  \n",
        "    neigh = KNeighborsClassifier(n_neighbors = n).fit(X_train,y_train)\n",
        "    yhat=neigh.predict(X_test)\n",
        "    mean_acc[n-1] = metrics.accuracy_score(y_test, yhat)\n",
        "\n",
        "    \n",
        "    std_acc[n-1]=np.std(yhat==y_test)/np.sqrt(yhat.shape[0])\n",
        "\n",
        "mean_acc"
      ]
    },
    {
      "cell_type": "code",
      "execution_count": null,
      "metadata": {
        "id": "CJTKjoivP9Uq",
        "outputId": "a4d0ea4f-20e4-43af-94ea-3961ed38e951"
      },
      "outputs": [
        {
          "data": {
            "image/png": "[encoded data removed]",
            "text/plain": [
              "<Figure size 432x288 with 1 Axes>"
            ]
          },
          "metadata": {
            "needs_background": "light"
          },
          "output_type": "display_data"
        }
      ],
      "source": [
        "plt.plot(range(1,Ks),mean_acc,'g')\n",
        "plt.fill_between(range(1,Ks),mean_acc - 1 * std_acc,mean_acc + 1 * std_acc, alpha=0.10)\n",
        "plt.legend(('Accuracy ', '+/- 3xstd'))\n",
        "plt.ylabel('Accuracy ')\n",
        "plt.xlabel('Number of Nabors (K)')\n",
        "plt.tight_layout()\n",
        "plt.show()"
      ]
    },
    {
      "cell_type": "code",
      "execution_count": null,
      "metadata": {
        "id": "6E2ARebtP9Ur",
        "outputId": "b88ea13c-490e-42c0-9078-c18a6c8949b5"
      },
      "outputs": [
        {
          "name": "stdout",
          "output_type": "stream",
          "text": [
            "The best accuracy was with 98.24561403508771 with k= 9\n"
          ]
        }
      ],
      "source": [
        "print( \"The best accuracy was with\", mean_acc.max()*100, \"with k=\", mean_acc.argmax()+1) "
      ]
    },
    {
      "cell_type": "markdown",
      "metadata": {
        "id": "513Vdnf5P9Ur"
      },
      "source": [
        "### Decision Trees"
      ]
    },
    {
      "cell_type": "code",
      "execution_count": null,
      "metadata": {
        "id": "vm3nzn21P9Ur"
      },
      "outputs": [],
      "source": [
        "# import DecisionTreeClassifier\n",
        "from sklearn.tree import DecisionTreeClassifier"
      ]
    },
    {
      "cell_type": "markdown",
      "metadata": {
        "id": "D4zI0ywvP9Us"
      },
      "source": [
        "###### Decision Tree with Gini"
      ]
    },
    {
      "cell_type": "code",
      "execution_count": null,
      "metadata": {
        "id": "4uLP-FL4P9Us",
        "outputId": "198e9664-852a-45c9-bbc2-4fb04f7edee5"
      },
      "outputs": [
        {
          "data": {
            "text/plain": [
              "DecisionTreeClassifier(max_depth=3, random_state=0)"
            ]
          },
          "execution_count": 158,
          "metadata": {},
          "output_type": "execute_result"
        }
      ],
      "source": [
        "# instantiate the DecisionTreeClassifier model with criterion gini index\n",
        "clf_gini = DecisionTreeClassifier(criterion='gini', max_depth=3, random_state=0)\n",
        "\n",
        "# fit the model\n",
        "clf_gini.fit(X_train, y_train)"
      ]
    },
    {
      "cell_type": "code",
      "execution_count": null,
      "metadata": {
        "id": "dRNejr3sP9Us"
      },
      "outputs": [],
      "source": [
        "# Predict the Test set results with criterion gini index\n",
        "y_pred_gini = clf_gini.predict(X_test)"
      ]
    },
    {
      "cell_type": "code",
      "execution_count": null,
      "metadata": {
        "id": "jMZJk89CP9Ut",
        "outputId": "c4db93cf-60d5-4ae2-f764-f3a30c8ab30b"
      },
      "outputs": [
        {
          "name": "stdout",
          "output_type": "stream",
          "text": [
            "Model accuracy score with criterion gini index: 0.8772\n"
          ]
        }
      ],
      "source": [
        "# Check accuracy score with criterion gini index\n",
        "# Here, y_test are the true class labels and y_pred_gini are the predicted class labels in the test-set.\n",
        "from sklearn.metrics import accuracy_score\n",
        "\n",
        "print('Model accuracy score with criterion gini index: {0:0.4f}'. format(accuracy_score(y_test, y_pred_gini)))"
      ]
    },
    {
      "cell_type": "code",
      "execution_count": null,
      "metadata": {
        "id": "nBQNPjBcP9Ut",
        "outputId": "e4bd7b79-a97a-48cc-9025-57d7175c25f3"
      },
      "outputs": [
        {
          "data": {
            "text/plain": [
              "array(['B', 'M', 'B', 'M', 'M', 'B', 'B', 'M', 'B', 'B', 'B', 'B', 'B',\n",
              "       'M', 'M', 'B', 'B', 'B', 'M', 'M', 'B', 'M', 'M', 'M', 'B', 'M',\n",
              "       'B', 'M', 'M', 'M', 'B', 'M', 'B', 'M', 'B', 'B', 'B', 'B', 'B',\n",
              "       'B', 'M', 'B', 'B', 'B', 'B', 'B', 'B', 'M', 'B', 'B', 'M', 'B',\n",
              "       'B', 'B', 'B', 'B', 'B', 'M', 'M', 'M', 'B', 'B', 'B', 'B', 'B',\n",
              "       'B', 'M', 'B', 'M', 'B', 'B', 'B', 'M', 'B', 'B', 'B', 'M', 'M',\n",
              "       'B', 'B', 'B', 'M', 'M', 'B', 'B', 'M', 'B', 'B', 'M', 'B', 'M',\n",
              "       'B', 'M', 'B', 'B', 'B', 'B', 'B', 'M', 'B', 'B', 'B', 'M', 'B',\n",
              "       'B', 'M', 'B', 'M', 'B', 'M', 'B', 'M', 'B', 'B', 'M', 'B', 'B',\n",
              "       'M', 'M', 'M', 'M', 'M', 'M', 'B', 'M', 'M', 'B', 'B', 'B', 'M',\n",
              "       'B', 'M', 'B', 'B', 'M', 'B', 'M', 'M', 'B', 'M', 'B', 'M', 'M',\n",
              "       'M', 'B', 'B', 'M', 'B', 'B', 'B', 'M', 'B', 'M', 'B', 'B', 'B',\n",
              "       'M', 'B', 'B', 'M', 'B', 'B', 'B', 'B', 'B', 'B', 'M', 'B', 'B',\n",
              "       'M', 'B', 'B', 'M', 'B', 'B', 'M', 'B', 'B', 'B', 'B', 'B', 'M',\n",
              "       'M', 'B', 'M', 'B', 'B', 'B', 'M', 'B', 'M', 'B', 'M', 'B', 'B',\n",
              "       'B', 'B', 'M', 'B', 'B', 'M', 'B', 'B', 'B', 'M', 'B', 'B', 'M',\n",
              "       'M', 'B', 'B', 'B', 'B', 'B', 'B', 'M', 'M', 'B', 'B', 'B', 'M',\n",
              "       'B', 'M', 'B', 'B', 'B', 'B', 'B', 'B', 'B', 'B', 'B', 'B', 'M',\n",
              "       'B', 'B', 'M', 'B', 'M', 'B', 'B', 'M', 'B', 'M', 'B', 'M', 'M',\n",
              "       'B', 'M', 'M', 'M', 'M', 'M', 'M', 'B', 'B', 'B', 'B', 'M', 'M',\n",
              "       'B', 'M', 'B', 'B', 'B', 'M', 'B', 'M', 'M', 'B', 'B', 'B', 'M',\n",
              "       'B', 'M', 'B', 'M', 'B', 'B', 'M', 'B', 'B', 'B', 'M', 'B', 'B',\n",
              "       'B', 'M', 'B', 'B', 'B', 'M', 'M', 'M', 'B', 'M', 'B', 'B', 'M',\n",
              "       'B', 'M', 'B', 'B', 'B', 'B', 'B', 'B', 'B', 'M', 'B', 'B', 'B',\n",
              "       'M', 'B', 'M', 'B', 'M', 'M', 'B', 'M', 'B', 'M', 'M', 'M', 'B',\n",
              "       'B', 'B', 'B', 'B', 'B', 'B', 'M', 'B', 'B', 'B', 'B', 'M', 'B',\n",
              "       'B', 'B', 'M', 'M', 'B', 'B', 'M', 'M', 'M', 'M', 'M', 'B', 'M',\n",
              "       'M', 'B', 'B', 'M', 'B', 'B', 'B', 'B', 'M', 'B', 'B', 'B', 'B',\n",
              "       'M', 'M', 'B', 'B', 'M', 'M', 'M', 'B', 'M', 'M', 'B', 'B', 'M',\n",
              "       'M', 'B', 'M', 'M', 'B', 'B', 'M', 'M', 'M', 'B', 'M', 'B', 'M',\n",
              "       'B', 'M', 'B', 'B', 'B', 'B', 'B', 'M', 'B', 'B', 'M', 'M', 'M',\n",
              "       'B', 'M', 'B', 'B', 'B', 'B', 'M', 'B', 'B', 'B', 'M', 'B', 'M',\n",
              "       'B', 'B', 'M', 'M', 'B', 'M', 'B', 'B', 'B', 'M', 'B', 'B', 'B',\n",
              "       'M', 'B', 'M', 'M', 'M', 'M', 'B', 'M', 'B', 'B', 'M', 'B', 'M',\n",
              "       'B', 'M', 'B', 'M', 'B', 'B', 'B', 'M', 'B', 'B', 'B', 'B', 'M'],\n",
              "      dtype=object)"
            ]
          },
          "execution_count": 161,
          "metadata": {},
          "output_type": "execute_result"
        }
      ],
      "source": [
        "# Compare the train-set and test-set accuracy\n",
        "y_pred_train_gini = clf_gini.predict(X_train)\n",
        "\n",
        "y_pred_train_gini"
      ]
    },
    {
      "cell_type": "code",
      "execution_count": null,
      "metadata": {
        "id": "3VUZ3CaBP9Ut",
        "outputId": "c03b5e06-86fc-4e08-89e8-bde91d3aced0"
      },
      "outputs": [
        {
          "name": "stdout",
          "output_type": "stream",
          "text": [
            "Training-set accuracy score: 0.9780\n"
          ]
        }
      ],
      "source": [
        "print('Training-set accuracy score: {0:0.4f}'. format(accuracy_score(y_train, y_pred_train_gini)))"
      ]
    },
    {
      "cell_type": "code",
      "execution_count": null,
      "metadata": {
        "id": "HsV7Fn0vP9Uu",
        "outputId": "d3d69cd8-ab02-47e8-f8ce-9f3367b922d7"
      },
      "outputs": [
        {
          "name": "stdout",
          "output_type": "stream",
          "text": [
            "Training set score: 0.9780\n",
            "Test set score: 0.8772\n"
          ]
        }
      ],
      "source": [
        "# Check for overfitting and underfitting\n",
        "# print the scores on training and test set\n",
        "print('Training set score: {:.4f}'.format(clf_gini.score(X_train, y_train)))\n",
        "\n",
        "print('Test set score: {:.4f}'.format(clf_gini.score(X_test, y_test)))"
      ]
    },
    {
      "cell_type": "code",
      "execution_count": null,
      "metadata": {
        "id": "dhTemTzXP9Uu",
        "outputId": "f2875b58-770b-49b1-fdcd-251e4a6daef3"
      },
      "outputs": [
        {
          "data": {
            "text/plain": [
              "[Text(334.8, 380.52, 'X[23] <= -0.039\\ngini = 0.476\\nsamples = 455\\nvalue = [277, 178]'),\n",
              " Text(167.4, 271.8, 'X[28] <= 0.674\\ngini = 0.097\\nsamples = 275\\nvalue = [261, 14]'),\n",
              " Text(83.7, 163.07999999999998, 'X[14] <= 1.127\\ngini = 0.051\\nsamples = 267\\nvalue = [260, 7]'),\n",
              " Text(41.85, 54.360000000000014, 'gini = 0.044\\nsamples = 266\\nvalue = [260, 6]'),\n",
              " Text(125.55000000000001, 54.360000000000014, 'gini = 0.0\\nsamples = 1\\nvalue = [0, 1]'),\n",
              " Text(251.10000000000002, 163.07999999999998, 'X[14] <= -0.586\\ngini = 0.219\\nsamples = 8\\nvalue = [1, 7]'),\n",
              " Text(209.25, 54.360000000000014, 'gini = 0.0\\nsamples = 1\\nvalue = [1, 0]'),\n",
              " Text(292.95, 54.360000000000014, 'gini = 0.0\\nsamples = 7\\nvalue = [0, 7]'),\n",
              " Text(502.20000000000005, 271.8, 'X[24] <= -0.022\\ngini = 0.162\\nsamples = 180\\nvalue = [16, 164]'),\n",
              " Text(418.5, 163.07999999999998, 'X[25] <= -0.341\\ngini = 0.499\\nsamples = 29\\nvalue = [14, 15]'),\n",
              " Text(376.65000000000003, 54.360000000000014, 'gini = 0.0\\nsamples = 11\\nvalue = [11, 0]'),\n",
              " Text(460.35, 54.360000000000014, 'gini = 0.278\\nsamples = 18\\nvalue = [3, 15]'),\n",
              " Text(585.9, 163.07999999999998, 'X[22] <= -1.528\\ngini = 0.026\\nsamples = 151\\nvalue = [2, 149]'),\n",
              " Text(544.0500000000001, 54.360000000000014, 'gini = 0.0\\nsamples = 1\\nvalue = [1, 0]'),\n",
              " Text(627.75, 54.360000000000014, 'gini = 0.013\\nsamples = 150\\nvalue = [1, 149]')]"
            ]
          },
          "execution_count": 164,
          "metadata": {},
          "output_type": "execute_result"
        },
        {
          "data": {
            "image/png": "[encoded data removed]",
            "text/plain": [
              "<Figure size 864x576 with 1 Axes>"
            ]
          },
          "metadata": {
            "needs_background": "light"
          },
          "output_type": "display_data"
        }
      ],
      "source": [
        "# Visualize decision-trees\n",
        "plt.figure(figsize=(12,8))\n",
        "\n",
        "from sklearn import tree\n",
        "\n",
        "tree.plot_tree(clf_gini.fit(X_train, y_train))"
      ]
    },
    {
      "cell_type": "markdown",
      "metadata": {
        "id": "K32057ioP9Uu"
      },
      "source": [
        "###### Decision Tree Classifier with criterion entropy"
      ]
    },
    {
      "cell_type": "code",
      "execution_count": null,
      "metadata": {
        "id": "CRSn6tU8P9Uu",
        "outputId": "97242a59-6154-40d2-c6e2-1d1510f387b6"
      },
      "outputs": [
        {
          "data": {
            "text/plain": [
              "DecisionTreeClassifier(criterion='entropy', max_depth=3, random_state=0)"
            ]
          },
          "execution_count": 165,
          "metadata": {},
          "output_type": "execute_result"
        }
      ],
      "source": [
        "# instantiate the DecisionTreeClassifier model with criterion entropy\n",
        "clf_en = DecisionTreeClassifier(criterion='entropy', max_depth=3, random_state=0)\n",
        "\n",
        "# fit the model\n",
        "clf_en.fit(X_train, y_train)"
      ]
    },
    {
      "cell_type": "code",
      "execution_count": null,
      "metadata": {
        "id": "OxE646hfP9Uu"
      },
      "outputs": [],
      "source": [
        "# Predict the Test set results with criterion entropy\n",
        "y_pred_en = clf_en.predict(X_test)"
      ]
    },
    {
      "cell_type": "code",
      "execution_count": null,
      "metadata": {
        "id": "NZKPI9YGP9Uv",
        "outputId": "c2c959d1-1b1e-4a67-8a3e-60f3905320e2"
      },
      "outputs": [
        {
          "name": "stdout",
          "output_type": "stream",
          "text": [
            "Model accuracy score with criterion entropy: 0.9474\n"
          ]
        }
      ],
      "source": [
        "# Check accuracy score with criterion entropy\n",
        "from sklearn.metrics import accuracy_score\n",
        "\n",
        "print('Model accuracy score with criterion entropy: {0:0.4f}'. format(accuracy_score(y_test, y_pred_en)))"
      ]
    },
    {
      "cell_type": "code",
      "execution_count": null,
      "metadata": {
        "id": "Ys56K3XvP9Uv",
        "outputId": "735b7024-9fa3-41ae-cafa-523cb10dbf23"
      },
      "outputs": [
        {
          "data": {
            "text/plain": [
              "array(['B', 'M', 'B', 'B', 'M', 'B', 'B', 'M', 'B', 'B', 'B', 'B', 'B',\n",
              "       'M', 'M', 'B', 'B', 'B', 'M', 'M', 'B', 'M', 'M', 'M', 'B', 'M',\n",
              "       'B', 'M', 'B', 'M', 'B', 'M', 'B', 'M', 'B', 'B', 'B', 'B', 'B',\n",
              "       'B', 'M', 'B', 'B', 'B', 'B', 'B', 'B', 'M', 'B', 'B', 'M', 'B',\n",
              "       'B', 'B', 'B', 'B', 'B', 'M', 'M', 'M', 'B', 'B', 'B', 'B', 'B',\n",
              "       'B', 'M', 'B', 'M', 'B', 'B', 'B', 'M', 'B', 'B', 'B', 'M', 'M',\n",
              "       'B', 'B', 'B', 'M', 'B', 'B', 'B', 'M', 'B', 'B', 'M', 'B', 'M',\n",
              "       'B', 'M', 'B', 'B', 'B', 'B', 'B', 'M', 'B', 'B', 'B', 'M', 'B',\n",
              "       'B', 'M', 'B', 'M', 'B', 'M', 'B', 'M', 'B', 'B', 'M', 'B', 'B',\n",
              "       'M', 'M', 'M', 'M', 'M', 'B', 'B', 'M', 'M', 'B', 'B', 'B', 'M',\n",
              "       'B', 'M', 'B', 'B', 'M', 'B', 'M', 'M', 'B', 'M', 'B', 'M', 'M',\n",
              "       'M', 'B', 'B', 'M', 'B', 'B', 'B', 'M', 'B', 'M', 'B', 'B', 'B',\n",
              "       'M', 'B', 'M', 'M', 'B', 'B', 'B', 'B', 'B', 'B', 'B', 'B', 'B',\n",
              "       'M', 'B', 'B', 'M', 'B', 'B', 'M', 'B', 'B', 'B', 'B', 'B', 'M',\n",
              "       'M', 'B', 'M', 'B', 'B', 'B', 'M', 'B', 'M', 'B', 'M', 'B', 'B',\n",
              "       'B', 'B', 'M', 'B', 'B', 'M', 'B', 'B', 'B', 'M', 'B', 'B', 'M',\n",
              "       'M', 'B', 'B', 'B', 'B', 'B', 'B', 'M', 'M', 'B', 'B', 'B', 'M',\n",
              "       'B', 'M', 'B', 'B', 'B', 'B', 'B', 'B', 'B', 'B', 'B', 'B', 'M',\n",
              "       'B', 'B', 'M', 'B', 'M', 'B', 'B', 'M', 'B', 'M', 'B', 'M', 'M',\n",
              "       'B', 'M', 'M', 'M', 'M', 'M', 'M', 'B', 'B', 'B', 'B', 'M', 'M',\n",
              "       'B', 'M', 'B', 'B', 'B', 'M', 'B', 'M', 'M', 'B', 'B', 'B', 'M',\n",
              "       'B', 'M', 'B', 'M', 'B', 'B', 'M', 'B', 'B', 'B', 'M', 'B', 'B',\n",
              "       'B', 'M', 'B', 'B', 'B', 'M', 'M', 'M', 'B', 'B', 'B', 'B', 'M',\n",
              "       'B', 'M', 'B', 'B', 'B', 'B', 'B', 'B', 'B', 'M', 'B', 'B', 'M',\n",
              "       'M', 'B', 'M', 'B', 'B', 'M', 'B', 'M', 'B', 'M', 'M', 'B', 'B',\n",
              "       'B', 'B', 'B', 'B', 'B', 'B', 'B', 'B', 'B', 'B', 'B', 'M', 'B',\n",
              "       'B', 'B', 'M', 'M', 'B', 'B', 'M', 'M', 'M', 'B', 'M', 'B', 'M',\n",
              "       'M', 'B', 'B', 'M', 'B', 'M', 'B', 'B', 'M', 'B', 'B', 'B', 'B',\n",
              "       'M', 'M', 'B', 'B', 'M', 'M', 'M', 'B', 'M', 'M', 'B', 'B', 'M',\n",
              "       'B', 'B', 'M', 'M', 'B', 'B', 'M', 'M', 'M', 'B', 'M', 'B', 'M',\n",
              "       'B', 'M', 'B', 'B', 'B', 'B', 'B', 'M', 'B', 'B', 'M', 'M', 'M',\n",
              "       'B', 'M', 'B', 'B', 'B', 'B', 'M', 'B', 'B', 'B', 'M', 'B', 'B',\n",
              "       'B', 'B', 'B', 'M', 'B', 'M', 'B', 'B', 'B', 'M', 'B', 'B', 'B',\n",
              "       'M', 'B', 'M', 'M', 'M', 'M', 'B', 'M', 'B', 'B', 'M', 'B', 'M',\n",
              "       'B', 'B', 'B', 'M', 'B', 'B', 'B', 'M', 'B', 'B', 'B', 'B', 'M'],\n",
              "      dtype=object)"
            ]
          },
          "execution_count": 168,
          "metadata": {},
          "output_type": "execute_result"
        }
      ],
      "source": [
        "# Compare the train-set and test-set accuracy\n",
        "# Now, I will compare the train-set and test-set accuracy to check for overfitting.\n",
        "y_pred_train_en = clf_en.predict(X_train)\n",
        "\n",
        "y_pred_train_en"
      ]
    },
    {
      "cell_type": "code",
      "execution_count": null,
      "metadata": {
        "id": "jsECOfv7P9Uv",
        "outputId": "97f269ef-4370-4393-b013-c000303040c5"
      },
      "outputs": [
        {
          "name": "stdout",
          "output_type": "stream",
          "text": [
            "Training-set accuracy score: 0.9714\n"
          ]
        }
      ],
      "source": [
        "print('Training-set accuracy score: {0:0.4f}'. format(accuracy_score(y_train, y_pred_train_en)))"
      ]
    },
    {
      "cell_type": "code",
      "execution_count": null,
      "metadata": {
        "id": "EpJ_JK0dP9Uw",
        "outputId": "e81c1374-0c88-4528-9b11-976056a1af2a"
      },
      "outputs": [
        {
          "name": "stdout",
          "output_type": "stream",
          "text": [
            "Training set score: 0.9714\n",
            "Test set score: 0.9474\n"
          ]
        }
      ],
      "source": [
        "# Check for overfitting and underfitting\n",
        "# print the scores on training and test set\n",
        "print('Training set score: {:.4f}'.format(clf_en.score(X_train, y_train)))\n",
        "\n",
        "print('Test set score: {:.4f}'.format(clf_en.score(X_test, y_test)))"
      ]
    },
    {
      "cell_type": "code",
      "execution_count": null,
      "metadata": {
        "id": "PoYxMIqdP9Uw",
        "outputId": "d55504e0-7d65-4c0b-8a41-14f0f9d51218"
      },
      "outputs": [
        {
          "data": {
            "text/plain": [
              "[Text(386.3076923076923, 380.52, 'X[24] <= -0.022\\nentropy = 0.966\\nsamples = 455\\nvalue = [277, 178]'),\n",
              " Text(206.03076923076924, 271.8, 'X[28] <= 0.325\\nentropy = 0.454\\nsamples = 304\\nvalue = [275, 29]'),\n",
              " Text(103.01538461538462, 163.07999999999998, 'X[2] <= 0.499\\nentropy = 0.155\\nsamples = 268\\nvalue = [262, 6]'),\n",
              " Text(51.50769230769231, 54.360000000000014, 'entropy = 0.041\\nsamples = 226\\nvalue = [225, 1]'),\n",
              " Text(154.52307692307693, 54.360000000000014, 'entropy = 0.527\\nsamples = 42\\nvalue = [37, 5]'),\n",
              " Text(309.04615384615386, 163.07999999999998, 'X[2] <= 0.251\\nentropy = 0.944\\nsamples = 36\\nvalue = [13, 23]'),\n",
              " Text(257.53846153846155, 54.360000000000014, 'entropy = 0.934\\nsamples = 20\\nvalue = [13, 7]'),\n",
              " Text(360.55384615384617, 54.360000000000014, 'entropy = 0.0\\nsamples = 16\\nvalue = [0, 16]'),\n",
              " Text(566.5846153846154, 271.8, 'X[2] <= -1.009\\nentropy = 0.102\\nsamples = 151\\nvalue = [2, 149]'),\n",
              " Text(515.0769230769231, 163.07999999999998, 'X[16] <= -0.427\\nentropy = 0.918\\nsamples = 6\\nvalue = [2, 4]'),\n",
              " Text(463.5692307692308, 54.360000000000014, 'entropy = 0.0\\nsamples = 2\\nvalue = [2, 0]'),\n",
              " Text(566.5846153846154, 54.360000000000014, 'entropy = 0.0\\nsamples = 4\\nvalue = [0, 4]'),\n",
              " Text(618.0923076923077, 163.07999999999998, 'entropy = 0.0\\nsamples = 145\\nvalue = [0, 145]')]"
            ]
          },
          "execution_count": 171,
          "metadata": {},
          "output_type": "execute_result"
        },
        {
          "data": {
            "image/png": "[encoded data removed]",
            "text/plain": [
              "<Figure size 864x576 with 1 Axes>"
            ]
          },
          "metadata": {
            "needs_background": "light"
          },
          "output_type": "display_data"
        }
      ],
      "source": [
        "# Visualize decision-trees\n",
        "plt.figure(figsize=(12,8))\n",
        "\n",
        "from sklearn import tree\n",
        "\n",
        "tree.plot_tree(clf_en.fit(X_train, y_train))"
      ]
    },
    {
      "cell_type": "code",
      "execution_count": null,
      "metadata": {
        "id": "WR9KHY9RP9Uw",
        "outputId": "60c51e5a-ef33-4e84-91ac-45b67a7f20c4"
      },
      "outputs": [
        {
          "data": {
            "text/plain": [
              "100.0"
            ]
          },
          "execution_count": 172,
          "metadata": {},
          "output_type": "execute_result"
        }
      ],
      "source": [
        "decision_tree = DecisionTreeClassifier()\n",
        "decision_tree.fit(X_train, y_train)\n",
        "Y_pred = decision_tree.predict(X_test)\n",
        "acc_decision_tree = round(decision_tree.score(X_train, y_train)*100, 2)\n",
        "acc_decision_tree"
      ]
    },
    {
      "cell_type": "markdown",
      "metadata": {
        "id": "dfo3dWfqP9Ux"
      },
      "source": [
        "### SVM"
      ]
    },
    {
      "cell_type": "code",
      "execution_count": null,
      "metadata": {
        "id": "Mm2n4XC9P9Ux",
        "outputId": "9c677fed-8d76-40c9-8ce3-35db0155beaf"
      },
      "outputs": [
        {
          "name": "stdout",
          "output_type": "stream",
          "text": [
            "Train set: (455, 31) (455,)\n",
            "Test set: (114, 31) (114,)\n"
          ]
        }
      ],
      "source": [
        "X_train, X_test, y_train, y_test = train_test_split( X, y, test_size=0.2, random_state=4)\n",
        "print ('Train set:', X_train.shape,  y_train.shape)\n",
        "print ('Test set:', X_test.shape,  y_test.shape)"
      ]
    },
    {
      "cell_type": "code",
      "execution_count": null,
      "metadata": {
        "id": "f8cmed28P9Ux",
        "outputId": "1f1ffafb-dc45-498e-824b-d9d21131215d"
      },
      "outputs": [
        {
          "data": {
            "text/plain": [
              "SVC(gamma='auto')"
            ]
          },
          "execution_count": 174,
          "metadata": {},
          "output_type": "execute_result"
        }
      ],
      "source": [
        "from sklearn import svm\n",
        "clf = svm.SVC(kernel='rbf', gamma='auto')\n",
        "clf.fit(X_train, y_train) "
      ]
    },
    {
      "cell_type": "code",
      "execution_count": null,
      "metadata": {
        "id": "4cMCuGyTP9Uy",
        "outputId": "3b005aec-d3b5-4224-eb95-3fb973852574"
      },
      "outputs": [
        {
          "data": {
            "text/plain": [
              "array(['B', 'B', 'M', 'M', 'B', 'M', 'B', 'B', 'M', 'M', 'M', 'B', 'B',\n",
              "       'B', 'B', 'B', 'B', 'B', 'B', 'B'], dtype=object)"
            ]
          },
          "execution_count": 175,
          "metadata": {},
          "output_type": "execute_result"
        }
      ],
      "source": [
        "yhat = clf.predict(X_test)\n",
        "yhat [0:20]"
      ]
    },
    {
      "cell_type": "code",
      "execution_count": null,
      "metadata": {
        "id": "ZC5r3UQTP9Uy",
        "outputId": "09e7d0d7-b551-44b2-d3d4-d065b429d873"
      },
      "outputs": [
        {
          "data": {
            "text/plain": [
              "0.9739887531693683"
            ]
          },
          "execution_count": 176,
          "metadata": {},
          "output_type": "execute_result"
        }
      ],
      "source": [
        "from sklearn.metrics import f1_score\n",
        "f1_score(y_test, yhat, average='weighted') "
      ]
    },
    {
      "cell_type": "code",
      "execution_count": null,
      "metadata": {
        "id": "wgYMflRuP9Uy",
        "outputId": "cf3194d2-0191-47c0-85bc-418c42613a5d"
      },
      "outputs": [
        {
          "data": {
            "text/plain": [
              "0.9407094594594595"
            ]
          },
          "execution_count": 177,
          "metadata": {},
          "output_type": "execute_result"
        }
      ],
      "source": [
        "#from sklearn.metrics import jaccard_similarity_score\n",
        "#jaccard_similarity_score(y_test, yhat)\n",
        "#jaccard_score(y_test, yhat, average=None)\n",
        "\n",
        "\n",
        "from sklearn.metrics import jaccard_score\n",
        "\n",
        "jaccard_score(y_test, yhat, average='macro')"
      ]
    },
    {
      "cell_type": "code",
      "execution_count": null,
      "metadata": {
        "id": "Fm6P2EKzP9Uy",
        "outputId": "14a6873e-2e3c-44db-d40d-dae648dda272"
      },
      "outputs": [
        {
          "data": {
            "text/plain": [
              "98.68"
            ]
          },
          "execution_count": 178,
          "metadata": {},
          "output_type": "execute_result"
        }
      ],
      "source": [
        "from sklearn.svm import SVC, LinearSVC\n",
        "\n",
        "svc = SVC()\n",
        "svc.fit(X_train, y_train)\n",
        "Y_pred = svc.predict(X_test)\n",
        "acc_svc = round(svc.score(X_train, y_train) * 100, 2)\n",
        "acc_svc"
      ]
    },
    {
      "cell_type": "markdown",
      "metadata": {
        "id": "k7p_b0A4P9Uz"
      },
      "source": [
        "### Gaussian Naive Bayes"
      ]
    },
    {
      "cell_type": "code",
      "execution_count": null,
      "metadata": {
        "id": "_zlnDOvhP9Uz"
      },
      "outputs": [],
      "source": [
        "from sklearn.naive_bayes import GaussianNB"
      ]
    },
    {
      "cell_type": "code",
      "execution_count": null,
      "metadata": {
        "id": "43mvAlGSP9Uz",
        "outputId": "329c524e-91b4-4137-d91c-ecfc3a801850"
      },
      "outputs": [
        {
          "data": {
            "text/plain": [
              "93.63"
            ]
          },
          "execution_count": 180,
          "metadata": {},
          "output_type": "execute_result"
        }
      ],
      "source": [
        "# Gaussian Naive Bayes\n",
        "\n",
        "gaussian = GaussianNB()\n",
        "gaussian.fit(X_train, y_train)\n",
        "Y_pred = gaussian.predict(X_test)\n",
        "acc_gaussian = round(gaussian.score(X_train, y_train) * 100, 2)\n",
        "acc_gaussian"
      ]
    },
    {
      "cell_type": "markdown",
      "metadata": {
        "id": "KN2KuJhBP9Uz"
      },
      "source": [
        "### Model Evaluation"
      ]
    },
    {
      "cell_type": "code",
      "execution_count": null,
      "metadata": {
        "id": "jaQDD9BTP9Uz",
        "outputId": "04391505-7193-462d-c0c9-2a5e491f8e8d"
      },
      "outputs": [
        {
          "data": {
            "text/html": [
              "<div>\n",
              "<style scoped>\n",
              "    .dataframe tbody tr th:only-of-type {\n",
              "        vertical-align: middle;\n",
              "    }\n",
              "\n",
              "    .dataframe tbody tr th {\n",
              "        vertical-align: top;\n",
              "    }\n",
              "\n",
              "    .dataframe thead th {\n",
              "        text-align: right;\n",
              "    }\n",
              "</style>\n",
              "<table border=\"1\" class=\"dataframe\">\n",
              "  <thead>\n",
              "    <tr style=\"text-align: right;\">\n",
              "      <th></th>\n",
              "      <th>Model</th>\n",
              "      <th>Score</th>\n",
              "    </tr>\n",
              "  </thead>\n",
              "  <tbody>\n",
              "    <tr>\n",
              "      <th>1</th>\n",
              "      <td>Decision Tree</td>\n",
              "      <td>100.000000</td>\n",
              "    </tr>\n",
              "    <tr>\n",
              "      <th>2</th>\n",
              "      <td>SVM</td>\n",
              "      <td>98.680000</td>\n",
              "    </tr>\n",
              "    <tr>\n",
              "      <th>0</th>\n",
              "      <td>KNN</td>\n",
              "      <td>98.245614</td>\n",
              "    </tr>\n",
              "    <tr>\n",
              "      <th>3</th>\n",
              "      <td>Gaussian Naive Bayes</td>\n",
              "      <td>93.630000</td>\n",
              "    </tr>\n",
              "  </tbody>\n",
              "</table>\n",
              "</div>"
            ],
            "text/plain": [
              "                  Model       Score\n",
              "1         Decision Tree  100.000000\n",
              "2                   SVM   98.680000\n",
              "0                   KNN   98.245614\n",
              "3  Gaussian Naive Bayes   93.630000"
            ]
          },
          "execution_count": 181,
          "metadata": {},
          "output_type": "execute_result"
        }
      ],
      "source": [
        "\n",
        "models = pd.DataFrame({\n",
        "    'Model': ['KNN', 'Decision Tree', 'SVM', 'Gaussian Naive Bayes'],\n",
        "    'Score': [ mean_acc.max()*100, acc_decision_tree,\n",
        "             acc_svc, acc_gaussian]})\n",
        "models.sort_values(by='Score', ascending=False)"
      ]
    }
  ],
  "metadata": {
    "kernelspec": {
      "display_name": "Python 3",
      "language": "python",
      "name": "python3"
    },
    "language_info": {
      "codemirror_mode": {
        "name": "ipython",
        "version": 3
      },
      "file_extension": ".py",
      "mimetype": "text/x-python",
      "name": "python",
      "nbconvert_exporter": "python",
      "pygments_lexer": "ipython3",
      "version": "3.8.5"
    },
    "colab": {
      "name": "Classification.ipynb",
      "provenance": [],
      "include_colab_link": true
    }
  },
  "nbformat": 4,
  "nbformat_minor": 0
}