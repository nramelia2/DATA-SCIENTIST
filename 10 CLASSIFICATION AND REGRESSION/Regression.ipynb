{
  "cells": [
    {
      "cell_type": "markdown",
      "metadata": {
        "id": "view-in-github",
        "colab_type": "text"
      },
      "source": [
        "<a href=\"https://colab.research.google.com/github/nramelia2/DATA-SCIENTIST/blob/main/10%20CLASSIFICATION%20AND%20REGRESSION/Regression.ipynb\" target=\"_parent\"><img src=\"https://colab.research.google.com/assets/colab-badge.svg\" alt=\"Open In Colab\"/></a>"
      ]
    },
    {
      "cell_type": "markdown",
      "metadata": {
        "id": "Fe-LmsVdQrDZ"
      },
      "source": [
        "### Multiple Linear Regression"
      ]
    },
    {
      "cell_type": "code",
      "execution_count": null,
      "metadata": {
        "id": "4MafcSNXQrDf"
      },
      "outputs": [],
      "source": [
        "#Importing the libraries\n",
        "import pandas as pd\n",
        "import numpy as np\n",
        "import matplotlib.pyplot as plt\n",
        "import seaborn as sns"
      ]
    },
    {
      "cell_type": "code",
      "execution_count": null,
      "metadata": {
        "id": "6Dl7E7NIQrDg"
      },
      "outputs": [],
      "source": [
        "#Reading the dataset\n",
        "dataset = pd.read_csv(\"happines2019.csv\")"
      ]
    },
    {
      "cell_type": "code",
      "execution_count": null,
      "metadata": {
        "id": "Kmc7Dcz7QrDh",
        "outputId": "3489a30c-f61d-4491-be21-5dfa15d52dd8"
      },
      "outputs": [
        {
          "data": {
            "text/html": [
              "<div>\n",
              "<style scoped>\n",
              "    .dataframe tbody tr th:only-of-type {\n",
              "        vertical-align: middle;\n",
              "    }\n",
              "\n",
              "    .dataframe tbody tr th {\n",
              "        vertical-align: top;\n",
              "    }\n",
              "\n",
              "    .dataframe thead th {\n",
              "        text-align: right;\n",
              "    }\n",
              "</style>\n",
              "<table border=\"1\" class=\"dataframe\">\n",
              "  <thead>\n",
              "    <tr style=\"text-align: right;\">\n",
              "      <th></th>\n",
              "      <th>Overall rank</th>\n",
              "      <th>Country or region</th>\n",
              "      <th>Score</th>\n",
              "      <th>GDP per capita</th>\n",
              "      <th>Social support</th>\n",
              "      <th>Healthy life expectancy</th>\n",
              "      <th>Freedom to make life choices</th>\n",
              "      <th>Generosity</th>\n",
              "      <th>Perceptions of corruption</th>\n",
              "    </tr>\n",
              "  </thead>\n",
              "  <tbody>\n",
              "    <tr>\n",
              "      <th>0</th>\n",
              "      <td>1</td>\n",
              "      <td>Finland</td>\n",
              "      <td>7.769</td>\n",
              "      <td>1.340</td>\n",
              "      <td>1.587</td>\n",
              "      <td>0.986</td>\n",
              "      <td>0.596</td>\n",
              "      <td>0.153</td>\n",
              "      <td>0.393</td>\n",
              "    </tr>\n",
              "    <tr>\n",
              "      <th>1</th>\n",
              "      <td>2</td>\n",
              "      <td>Denmark</td>\n",
              "      <td>7.600</td>\n",
              "      <td>1.383</td>\n",
              "      <td>1.573</td>\n",
              "      <td>0.996</td>\n",
              "      <td>0.592</td>\n",
              "      <td>0.252</td>\n",
              "      <td>0.410</td>\n",
              "    </tr>\n",
              "    <tr>\n",
              "      <th>2</th>\n",
              "      <td>3</td>\n",
              "      <td>Norway</td>\n",
              "      <td>7.554</td>\n",
              "      <td>1.488</td>\n",
              "      <td>1.582</td>\n",
              "      <td>1.028</td>\n",
              "      <td>0.603</td>\n",
              "      <td>0.271</td>\n",
              "      <td>0.341</td>\n",
              "    </tr>\n",
              "    <tr>\n",
              "      <th>3</th>\n",
              "      <td>4</td>\n",
              "      <td>Iceland</td>\n",
              "      <td>7.494</td>\n",
              "      <td>1.380</td>\n",
              "      <td>1.624</td>\n",
              "      <td>1.026</td>\n",
              "      <td>0.591</td>\n",
              "      <td>0.354</td>\n",
              "      <td>0.118</td>\n",
              "    </tr>\n",
              "    <tr>\n",
              "      <th>4</th>\n",
              "      <td>5</td>\n",
              "      <td>Netherlands</td>\n",
              "      <td>7.488</td>\n",
              "      <td>1.396</td>\n",
              "      <td>1.522</td>\n",
              "      <td>0.999</td>\n",
              "      <td>0.557</td>\n",
              "      <td>0.322</td>\n",
              "      <td>0.298</td>\n",
              "    </tr>\n",
              "  </tbody>\n",
              "</table>\n",
              "</div>"
            ],
            "text/plain": [
              "   Overall rank Country or region  Score  GDP per capita  Social support  \\\n",
              "0             1           Finland  7.769           1.340           1.587   \n",
              "1             2           Denmark  7.600           1.383           1.573   \n",
              "2             3            Norway  7.554           1.488           1.582   \n",
              "3             4           Iceland  7.494           1.380           1.624   \n",
              "4             5       Netherlands  7.488           1.396           1.522   \n",
              "\n",
              "   Healthy life expectancy  Freedom to make life choices  Generosity  \\\n",
              "0                    0.986                         0.596       0.153   \n",
              "1                    0.996                         0.592       0.252   \n",
              "2                    1.028                         0.603       0.271   \n",
              "3                    1.026                         0.591       0.354   \n",
              "4                    0.999                         0.557       0.322   \n",
              "\n",
              "   Perceptions of corruption  \n",
              "0                      0.393  \n",
              "1                      0.410  \n",
              "2                      0.341  \n",
              "3                      0.118  \n",
              "4                      0.298  "
            ]
          },
          "execution_count": 110,
          "metadata": {},
          "output_type": "execute_result"
        }
      ],
      "source": [
        "dataset.head()"
      ]
    },
    {
      "cell_type": "code",
      "execution_count": null,
      "metadata": {
        "id": "LQO_YQwVQrDi"
      },
      "outputs": [],
      "source": [
        "new_names = {'Social support':'social_suport', 'Healthy life expectancy':'healthy_life_expectancy', 'GDP per capita':'GDP_per_capita', 'Freedom to make life choices':'Freedom_to_make_life_choices', 'Perceptions of corruption':'Perceptions_of_corruption'}"
      ]
    },
    {
      "cell_type": "code",
      "execution_count": null,
      "metadata": {
        "id": "BZJi00PVQrDi",
        "outputId": "bb19f62e-9eba-4725-abc5-4821e7908e8c"
      },
      "outputs": [
        {
          "data": {
            "text/html": [
              "<div>\n",
              "<style scoped>\n",
              "    .dataframe tbody tr th:only-of-type {\n",
              "        vertical-align: middle;\n",
              "    }\n",
              "\n",
              "    .dataframe tbody tr th {\n",
              "        vertical-align: top;\n",
              "    }\n",
              "\n",
              "    .dataframe thead th {\n",
              "        text-align: right;\n",
              "    }\n",
              "</style>\n",
              "<table border=\"1\" class=\"dataframe\">\n",
              "  <thead>\n",
              "    <tr style=\"text-align: right;\">\n",
              "      <th></th>\n",
              "      <th>Overall rank</th>\n",
              "      <th>Country or region</th>\n",
              "      <th>Score</th>\n",
              "      <th>GDP_per_capita</th>\n",
              "      <th>social_suport</th>\n",
              "      <th>healthy_life_expectancy</th>\n",
              "      <th>Freedom_to_make_life_choices</th>\n",
              "      <th>Generosity</th>\n",
              "      <th>Perceptions_of_corruption</th>\n",
              "    </tr>\n",
              "  </thead>\n",
              "  <tbody>\n",
              "    <tr>\n",
              "      <th>0</th>\n",
              "      <td>1</td>\n",
              "      <td>Finland</td>\n",
              "      <td>7.769</td>\n",
              "      <td>1.340</td>\n",
              "      <td>1.587</td>\n",
              "      <td>0.986</td>\n",
              "      <td>0.596</td>\n",
              "      <td>0.153</td>\n",
              "      <td>0.393</td>\n",
              "    </tr>\n",
              "    <tr>\n",
              "      <th>1</th>\n",
              "      <td>2</td>\n",
              "      <td>Denmark</td>\n",
              "      <td>7.600</td>\n",
              "      <td>1.383</td>\n",
              "      <td>1.573</td>\n",
              "      <td>0.996</td>\n",
              "      <td>0.592</td>\n",
              "      <td>0.252</td>\n",
              "      <td>0.410</td>\n",
              "    </tr>\n",
              "    <tr>\n",
              "      <th>2</th>\n",
              "      <td>3</td>\n",
              "      <td>Norway</td>\n",
              "      <td>7.554</td>\n",
              "      <td>1.488</td>\n",
              "      <td>1.582</td>\n",
              "      <td>1.028</td>\n",
              "      <td>0.603</td>\n",
              "      <td>0.271</td>\n",
              "      <td>0.341</td>\n",
              "    </tr>\n",
              "    <tr>\n",
              "      <th>3</th>\n",
              "      <td>4</td>\n",
              "      <td>Iceland</td>\n",
              "      <td>7.494</td>\n",
              "      <td>1.380</td>\n",
              "      <td>1.624</td>\n",
              "      <td>1.026</td>\n",
              "      <td>0.591</td>\n",
              "      <td>0.354</td>\n",
              "      <td>0.118</td>\n",
              "    </tr>\n",
              "    <tr>\n",
              "      <th>4</th>\n",
              "      <td>5</td>\n",
              "      <td>Netherlands</td>\n",
              "      <td>7.488</td>\n",
              "      <td>1.396</td>\n",
              "      <td>1.522</td>\n",
              "      <td>0.999</td>\n",
              "      <td>0.557</td>\n",
              "      <td>0.322</td>\n",
              "      <td>0.298</td>\n",
              "    </tr>\n",
              "  </tbody>\n",
              "</table>\n",
              "</div>"
            ],
            "text/plain": [
              "   Overall rank Country or region  Score  GDP_per_capita  social_suport  \\\n",
              "0             1           Finland  7.769           1.340          1.587   \n",
              "1             2           Denmark  7.600           1.383          1.573   \n",
              "2             3            Norway  7.554           1.488          1.582   \n",
              "3             4           Iceland  7.494           1.380          1.624   \n",
              "4             5       Netherlands  7.488           1.396          1.522   \n",
              "\n",
              "   healthy_life_expectancy  Freedom_to_make_life_choices  Generosity  \\\n",
              "0                    0.986                         0.596       0.153   \n",
              "1                    0.996                         0.592       0.252   \n",
              "2                    1.028                         0.603       0.271   \n",
              "3                    1.026                         0.591       0.354   \n",
              "4                    0.999                         0.557       0.322   \n",
              "\n",
              "   Perceptions_of_corruption  \n",
              "0                      0.393  \n",
              "1                      0.410  \n",
              "2                      0.341  \n",
              "3                      0.118  \n",
              "4                      0.298  "
            ]
          },
          "execution_count": 112,
          "metadata": {},
          "output_type": "execute_result"
        }
      ],
      "source": [
        "dataset.rename(columns=new_names, inplace=True)\n",
        "dataset.head()"
      ]
    },
    {
      "cell_type": "code",
      "execution_count": null,
      "metadata": {
        "id": "pLkg06kRQrDi"
      },
      "outputs": [],
      "source": [
        "x = dataset[['GDP_per_capita', 'social_suport', 'healthy_life_expectancy', 'Freedom_to_make_life_choices', 'Generosity', 'Perceptions_of_corruption']]\n",
        "y = dataset['Score']"
      ]
    },
    {
      "cell_type": "code",
      "execution_count": null,
      "metadata": {
        "id": "r89r3uLsQrDj"
      },
      "outputs": [],
      "source": [
        "# split X and y into training and testing sets\n",
        "from sklearn.model_selection import train_test_split\n",
        "\n",
        "x_train, x_test, y_train, y_test = train_test_split(x, y, test_size = 0.2, random_state = 100)"
      ]
    },
    {
      "cell_type": "code",
      "execution_count": null,
      "metadata": {
        "id": "XyF__KexQrDj",
        "outputId": "2ef05dea-199e-4b55-fccb-b2a397d378c5"
      },
      "outputs": [
        {
          "data": {
            "text/plain": [
              "LinearRegression()"
            ]
          },
          "execution_count": 115,
          "metadata": {},
          "output_type": "execute_result"
        }
      ],
      "source": [
        "#Fitting the Multiple Linear Regression model\n",
        "from sklearn import linear_model\n",
        "mlr = linear_model.LinearRegression()\n",
        "mlr.fit(x_train, y_train)"
      ]
    },
    {
      "cell_type": "code",
      "execution_count": null,
      "metadata": {
        "id": "l3MMpJh8QrDk",
        "outputId": "601dce7e-ee81-4fd3-8bb0-8415260b5f24"
      },
      "outputs": [
        {
          "name": "stdout",
          "output_type": "stream",
          "text": [
            "Intercept:  1.7891941454280893\n",
            "Coefficients:\n"
          ]
        },
        {
          "data": {
            "text/plain": [
              "[('GDP_per_capita', 0.6078134879981638),\n",
              " ('social_suport', 1.217493776950823),\n",
              " ('healthy_life_expectancy', 1.2424315269134207),\n",
              " ('Freedom_to_make_life_choices', 1.1175064490141458),\n",
              " ('Generosity', 0.3543100422572157),\n",
              " ('Perceptions_of_corruption', 1.5877091467344342)]"
            ]
          },
          "execution_count": 116,
          "metadata": {},
          "output_type": "execute_result"
        }
      ],
      "source": [
        "#Intercept and Coefficient\n",
        "print(\"Intercept: \", mlr.intercept_)\n",
        "print(\"Coefficients:\")\n",
        "list(zip(x, mlr.coef_))"
      ]
    },
    {
      "cell_type": "code",
      "execution_count": null,
      "metadata": {
        "id": "73HysNtCQrDl",
        "outputId": "73dba5c5-5370-42c9-d857-a012fbe55f1a"
      },
      "outputs": [
        {
          "name": "stdout",
          "output_type": "stream",
          "text": [
            "Prediction for test set: [5.41581721 6.19078958 4.43913638 7.00667105 4.25339679 4.11144137\n",
            " 4.52930805 7.18419041 3.6355611  5.9656846  5.75528971 5.69017071\n",
            " 5.53100998 6.28124113 4.71664095 5.22865615 5.8095928  6.24312601\n",
            " 5.90619955 4.40275727 6.33255588 6.230621   4.48659412 4.50414156\n",
            " 5.9200752  3.26898852 4.98554004 6.37272183 6.45679096 5.4686475\n",
            " 4.87391771 5.48363702]\n"
          ]
        }
      ],
      "source": [
        "#Prediction of test set\n",
        "y_pred_mlr= mlr.predict(x_test)\n",
        "#Predicted values\n",
        "print(\"Prediction for test set: {}\".format(y_pred_mlr))"
      ]
    },
    {
      "cell_type": "code",
      "execution_count": null,
      "metadata": {
        "id": "yT57gYC_QrDl",
        "outputId": "e09ba1ca-2b95-4569-ef1f-1293b883df66"
      },
      "outputs": [
        {
          "data": {
            "text/html": [
              "<div>\n",
              "<style scoped>\n",
              "    .dataframe tbody tr th:only-of-type {\n",
              "        vertical-align: middle;\n",
              "    }\n",
              "\n",
              "    .dataframe tbody tr th {\n",
              "        vertical-align: top;\n",
              "    }\n",
              "\n",
              "    .dataframe thead th {\n",
              "        text-align: right;\n",
              "    }\n",
              "</style>\n",
              "<table border=\"1\" class=\"dataframe\">\n",
              "  <thead>\n",
              "    <tr style=\"text-align: right;\">\n",
              "      <th></th>\n",
              "      <th>Actual value</th>\n",
              "      <th>Predicted value</th>\n",
              "    </tr>\n",
              "  </thead>\n",
              "  <tbody>\n",
              "    <tr>\n",
              "      <th>45</th>\n",
              "      <td>6.100</td>\n",
              "      <td>5.415817</td>\n",
              "    </tr>\n",
              "    <tr>\n",
              "      <th>11</th>\n",
              "      <td>7.167</td>\n",
              "      <td>6.190790</td>\n",
              "    </tr>\n",
              "    <tr>\n",
              "      <th>122</th>\n",
              "      <td>4.466</td>\n",
              "      <td>4.439136</td>\n",
              "    </tr>\n",
              "    <tr>\n",
              "      <th>15</th>\n",
              "      <td>7.021</td>\n",
              "      <td>7.006671</td>\n",
              "    </tr>\n",
              "    <tr>\n",
              "      <th>127</th>\n",
              "      <td>4.390</td>\n",
              "      <td>4.253397</td>\n",
              "    </tr>\n",
              "  </tbody>\n",
              "</table>\n",
              "</div>"
            ],
            "text/plain": [
              "     Actual value  Predicted value\n",
              "45          6.100         5.415817\n",
              "11          7.167         6.190790\n",
              "122         4.466         4.439136\n",
              "15          7.021         7.006671\n",
              "127         4.390         4.253397"
            ]
          },
          "execution_count": 118,
          "metadata": {},
          "output_type": "execute_result"
        }
      ],
      "source": [
        "#Actual value and the predicted value\n",
        "mlr_diff = pd.DataFrame({'Actual value': y_test, 'Predicted value': y_pred_mlr})\n",
        "mlr_diff.head()"
      ]
    },
    {
      "cell_type": "code",
      "execution_count": null,
      "metadata": {
        "id": "VoRtMIZfQrDl",
        "outputId": "076647be-0cfd-41cc-8cdf-a36ed248cdc4"
      },
      "outputs": [
        {
          "name": "stdout",
          "output_type": "stream",
          "text": [
            "R squared: 77.60\n",
            "Mean Absolute Error: 0.42535677451746945\n",
            "Mean Square Error: 0.32579996998550964\n",
            "Root Mean Square Error: 0.5707889014211031\n"
          ]
        }
      ],
      "source": [
        "#Model Evaluation\n",
        "from sklearn import metrics\n",
        "meanAbErr = metrics.mean_absolute_error(y_test, y_pred_mlr)\n",
        "meanSqErr = metrics.mean_squared_error(y_test, y_pred_mlr)\n",
        "rootMeanSqErr = np.sqrt(metrics.mean_squared_error(y_test, y_pred_mlr))\n",
        "print('R squared: {:.2f}'.format(mlr.score(x,y)*100))\n",
        "print('Mean Absolute Error:', meanAbErr)\n",
        "print('Mean Square Error:', meanSqErr)\n",
        "print('Root Mean Square Error:', rootMeanSqErr)"
      ]
    },
    {
      "cell_type": "markdown",
      "metadata": {
        "id": "vy-lGpwUQrDm"
      },
      "source": [
        "### Suppport Vector Regression (SVR)"
      ]
    },
    {
      "cell_type": "code",
      "execution_count": null,
      "metadata": {
        "id": "PereTG5oQrDm",
        "outputId": "b3dc0f2e-5427-4e25-fbaa-28cf032a5c08"
      },
      "outputs": [
        {
          "data": {
            "text/html": [
              "<div>\n",
              "<style scoped>\n",
              "    .dataframe tbody tr th:only-of-type {\n",
              "        vertical-align: middle;\n",
              "    }\n",
              "\n",
              "    .dataframe tbody tr th {\n",
              "        vertical-align: top;\n",
              "    }\n",
              "\n",
              "    .dataframe thead th {\n",
              "        text-align: right;\n",
              "    }\n",
              "</style>\n",
              "<table border=\"1\" class=\"dataframe\">\n",
              "  <thead>\n",
              "    <tr style=\"text-align: right;\">\n",
              "      <th></th>\n",
              "      <th>Score</th>\n",
              "      <th>GDP_per_capita</th>\n",
              "      <th>social_suport</th>\n",
              "      <th>healthy_life_expectancy</th>\n",
              "      <th>Freedom_to_make_life_choices</th>\n",
              "      <th>Generosity</th>\n",
              "      <th>Perceptions_of_corruption</th>\n",
              "    </tr>\n",
              "  </thead>\n",
              "  <tbody>\n",
              "    <tr>\n",
              "      <th>0</th>\n",
              "      <td>7.769</td>\n",
              "      <td>1.340</td>\n",
              "      <td>1.587</td>\n",
              "      <td>0.986</td>\n",
              "      <td>0.596</td>\n",
              "      <td>0.153</td>\n",
              "      <td>0.393</td>\n",
              "    </tr>\n",
              "    <tr>\n",
              "      <th>1</th>\n",
              "      <td>7.600</td>\n",
              "      <td>1.383</td>\n",
              "      <td>1.573</td>\n",
              "      <td>0.996</td>\n",
              "      <td>0.592</td>\n",
              "      <td>0.252</td>\n",
              "      <td>0.410</td>\n",
              "    </tr>\n",
              "    <tr>\n",
              "      <th>2</th>\n",
              "      <td>7.554</td>\n",
              "      <td>1.488</td>\n",
              "      <td>1.582</td>\n",
              "      <td>1.028</td>\n",
              "      <td>0.603</td>\n",
              "      <td>0.271</td>\n",
              "      <td>0.341</td>\n",
              "    </tr>\n",
              "    <tr>\n",
              "      <th>3</th>\n",
              "      <td>7.494</td>\n",
              "      <td>1.380</td>\n",
              "      <td>1.624</td>\n",
              "      <td>1.026</td>\n",
              "      <td>0.591</td>\n",
              "      <td>0.354</td>\n",
              "      <td>0.118</td>\n",
              "    </tr>\n",
              "    <tr>\n",
              "      <th>4</th>\n",
              "      <td>7.488</td>\n",
              "      <td>1.396</td>\n",
              "      <td>1.522</td>\n",
              "      <td>0.999</td>\n",
              "      <td>0.557</td>\n",
              "      <td>0.322</td>\n",
              "      <td>0.298</td>\n",
              "    </tr>\n",
              "    <tr>\n",
              "      <th>5</th>\n",
              "      <td>7.480</td>\n",
              "      <td>1.452</td>\n",
              "      <td>1.526</td>\n",
              "      <td>1.052</td>\n",
              "      <td>0.572</td>\n",
              "      <td>0.263</td>\n",
              "      <td>0.343</td>\n",
              "    </tr>\n",
              "    <tr>\n",
              "      <th>6</th>\n",
              "      <td>7.343</td>\n",
              "      <td>1.387</td>\n",
              "      <td>1.487</td>\n",
              "      <td>1.009</td>\n",
              "      <td>0.574</td>\n",
              "      <td>0.267</td>\n",
              "      <td>0.373</td>\n",
              "    </tr>\n",
              "    <tr>\n",
              "      <th>7</th>\n",
              "      <td>7.307</td>\n",
              "      <td>1.303</td>\n",
              "      <td>1.557</td>\n",
              "      <td>1.026</td>\n",
              "      <td>0.585</td>\n",
              "      <td>0.330</td>\n",
              "      <td>0.380</td>\n",
              "    </tr>\n",
              "    <tr>\n",
              "      <th>8</th>\n",
              "      <td>7.278</td>\n",
              "      <td>1.365</td>\n",
              "      <td>1.505</td>\n",
              "      <td>1.039</td>\n",
              "      <td>0.584</td>\n",
              "      <td>0.285</td>\n",
              "      <td>0.308</td>\n",
              "    </tr>\n",
              "    <tr>\n",
              "      <th>9</th>\n",
              "      <td>7.246</td>\n",
              "      <td>1.376</td>\n",
              "      <td>1.475</td>\n",
              "      <td>1.016</td>\n",
              "      <td>0.532</td>\n",
              "      <td>0.244</td>\n",
              "      <td>0.226</td>\n",
              "    </tr>\n",
              "  </tbody>\n",
              "</table>\n",
              "</div>"
            ],
            "text/plain": [
              "   Score  GDP_per_capita  social_suport  healthy_life_expectancy  \\\n",
              "0  7.769           1.340          1.587                    0.986   \n",
              "1  7.600           1.383          1.573                    0.996   \n",
              "2  7.554           1.488          1.582                    1.028   \n",
              "3  7.494           1.380          1.624                    1.026   \n",
              "4  7.488           1.396          1.522                    0.999   \n",
              "5  7.480           1.452          1.526                    1.052   \n",
              "6  7.343           1.387          1.487                    1.009   \n",
              "7  7.307           1.303          1.557                    1.026   \n",
              "8  7.278           1.365          1.505                    1.039   \n",
              "9  7.246           1.376          1.475                    1.016   \n",
              "\n",
              "   Freedom_to_make_life_choices  Generosity  Perceptions_of_corruption  \n",
              "0                         0.596       0.153                      0.393  \n",
              "1                         0.592       0.252                      0.410  \n",
              "2                         0.603       0.271                      0.341  \n",
              "3                         0.591       0.354                      0.118  \n",
              "4                         0.557       0.322                      0.298  \n",
              "5                         0.572       0.263                      0.343  \n",
              "6                         0.574       0.267                      0.373  \n",
              "7                         0.585       0.330                      0.380  \n",
              "8                         0.584       0.285                      0.308  \n",
              "9                         0.532       0.244                      0.226  "
            ]
          },
          "execution_count": 120,
          "metadata": {},
          "output_type": "execute_result"
        }
      ],
      "source": [
        "cdf = dataset[['Score','GDP_per_capita', 'social_suport', 'healthy_life_expectancy', 'Freedom_to_make_life_choices', 'Generosity', 'Perceptions_of_corruption']]\n",
        "cdf.head(10)"
      ]
    },
    {
      "cell_type": "code",
      "execution_count": null,
      "metadata": {
        "id": "5Js-UykpQrDm",
        "outputId": "ddddb1ad-1917-438b-b431-3a3546f1577c"
      },
      "outputs": [
        {
          "data": {
            "image/png": "[encoded data removed]",
            "text/plain": [
              "<Figure size 432x288 with 9 Axes>"
            ]
          },
          "metadata": {
            "needs_background": "light"
          },
          "output_type": "display_data"
        }
      ],
      "source": [
        "viz = cdf[['Score', 'GDP_per_capita', 'social_suport', 'healthy_life_expectancy', 'Freedom_to_make_life_choices', 'Generosity', 'Perceptions_of_corruption']]\n",
        "viz.hist()\n",
        "plt.show()"
      ]
    },
    {
      "cell_type": "code",
      "execution_count": null,
      "metadata": {
        "id": "oNwP7pBPQrDn"
      },
      "outputs": [],
      "source": [
        "# Variabel independen (regressor)\n",
        "X = cdf.social_suport.values\n",
        "# Variabel dependen\n",
        "y = cdf.Score.values\n",
        "X = X.reshape(-1,1)\n",
        "y = y.reshape(-1,1)"
      ]
    },
    {
      "cell_type": "code",
      "execution_count": null,
      "metadata": {
        "id": "gaQagr2pQrDn"
      },
      "outputs": [],
      "source": [
        "# Splitting the dataset into the Training set and Test set\n",
        "from sklearn.model_selection import train_test_split\n",
        "X_train, X_test, y_train, y_test = train_test_split(X, y, test_size = 0.2, random_state = 0)"
      ]
    },
    {
      "cell_type": "code",
      "execution_count": null,
      "metadata": {
        "id": "X6E-iavBQrDn"
      },
      "outputs": [],
      "source": [
        "# Feature Scaling\n",
        "from sklearn.preprocessing import StandardScaler\n",
        "sc_X = StandardScaler()\n",
        "sc_y = StandardScaler()\n",
        "X = sc_X.fit_transform(X)\n",
        "y = sc_y.fit_transform(y)"
      ]
    },
    {
      "cell_type": "code",
      "execution_count": null,
      "metadata": {
        "id": "sUz9cRmnQrDn"
      },
      "outputs": [],
      "source": [
        "y = np.ravel(y)"
      ]
    },
    {
      "cell_type": "code",
      "execution_count": null,
      "metadata": {
        "id": "7IZ5ix89QrDo",
        "outputId": "f19040fb-4fe0-4708-bd1a-8c0e67f82000"
      },
      "outputs": [
        {
          "data": {
            "text/plain": [
              "array([ 2.12871112,  1.97639663,  1.93493825,  1.8808621 ,  1.87545448,\n",
              "        1.86824433,  1.74477045,  1.71232476,  1.68618796,  1.65734734,\n",
              "        1.6411245 ,  1.58614708,  1.56091154,  1.51674935,  1.48430366,\n",
              "        1.45456178,  1.42211609,  1.3662374 ,  1.33829806,  1.30224729,\n",
              "        1.27791302,  1.18868737,  1.07062111,  1.06791731,  0.93633201,\n",
              "        0.93452947,  0.92731932,  0.8723419 ,  0.87144063,  0.85341524,\n",
              "        0.82367336,  0.80474671,  0.79843782,  0.77049848,  0.76238706,\n",
              "        0.73534898,  0.71371852,  0.71281725,  0.70740964,  0.69839695,\n",
              "        0.69118679,  0.66865506,  0.6470246 ,  0.64071572,  0.62899922,\n",
              "        0.62449287,  0.61187511,  0.5974548 ,  0.57582434,  0.55960149,\n",
              "        0.55329261,  0.54157611,  0.48028981,  0.43973269,  0.43793016,\n",
              "        0.43522635,  0.43342381,  0.43162127,  0.40818827,  0.36222355,\n",
              "        0.33518547,  0.31625882,  0.30273978,  0.28020805,  0.2612814 ,\n",
              "        0.25767632,  0.22162556,  0.21711921,  0.20179763,  0.1765621 ,\n",
              "        0.10986818,  0.1062631 ,  0.10446056,  0.05398949,  0.02244507,\n",
              "        0.02064253,  0.01613618, -0.01901331, -0.03072981, -0.06137296,\n",
              "       -0.07579327, -0.10823896, -0.1100415 , -0.11995546, -0.12806688,\n",
              "       -0.13167196, -0.14428973, -0.17673542, -0.17943923, -0.17943923,\n",
              "       -0.18935319, -0.19385953, -0.1947608 , -0.20918111, -0.29299914,\n",
              "       -0.32724737, -0.35698925, -0.37050829, -0.41737429, -0.44531363,\n",
              "       -0.45162251, -0.47235171, -0.53634182, -0.54805832, -0.55076212,\n",
              "       -0.61745604, -0.62015985, -0.63097508, -0.63728396, -0.64088904,\n",
              "       -0.65440808, -0.66612458, -0.69226138, -0.70217534, -0.73912738,\n",
              "       -0.76436292, -0.77427688, -0.78689465, -0.80041368, -0.80311749,\n",
              "       -0.80942638, -0.82655049, -0.84818095, -0.8526873 , -0.85719364,\n",
              "       -0.87431776, -0.89144187, -0.91667741, -0.93109771, -0.93830787,\n",
              "       -0.94371548, -0.95272817, -0.96895102, -1.0104094 , -1.07710332,\n",
              "       -1.09783251, -1.1185617 , -1.17173658, -1.1915645 , -1.25465335,\n",
              "       -1.29070411, -1.29250665, -1.32855742, -1.44662368, -1.47095795,\n",
              "       -1.57190009, -1.63138386, -1.7296222 , -1.7530552 , -1.79992119,\n",
              "       -1.82695927, -1.86841765, -1.96124837, -1.98648391, -2.09463621,\n",
              "       -2.30192812])"
            ]
          },
          "execution_count": 126,
          "metadata": {},
          "output_type": "execute_result"
        }
      ],
      "source": [
        "y"
      ]
    },
    {
      "cell_type": "code",
      "execution_count": null,
      "metadata": {
        "id": "XDhjIxPKQrDo",
        "outputId": "03f9dc92-7355-4105-eaef-adf54bb6a349"
      },
      "outputs": [
        {
          "data": {
            "text/plain": [
              "SVR(kernel='linear')"
            ]
          },
          "execution_count": 127,
          "metadata": {},
          "output_type": "execute_result"
        }
      ],
      "source": [
        "# Fitting SVR to the dataset\n",
        "from sklearn.svm import SVR\n",
        "regressor = SVR(kernel = 'linear')\n",
        "#linear = Linear Kernel\n",
        "regressor.fit(X, y)"
      ]
    },
    {
      "cell_type": "code",
      "execution_count": null,
      "metadata": {
        "id": "zqsCgboJQrDo",
        "outputId": "a113783a-f72a-45d6-d170-c25a30b5d818"
      },
      "outputs": [
        {
          "name": "stdout",
          "output_type": "stream",
          "text": [
            "[17.47187601]\n"
          ]
        }
      ],
      "source": [
        "# Predicting a new result\n",
        "\n",
        "y_pred = regressor.predict(sc_X.transform(np.array([[5.4]])))\n",
        "#To transform 5.4 to the scaled X value, we first need to convert it into the array form\n",
        "#Since the transform method of StandardScaler Library only accepts arrays\n",
        "\n",
        "y_pred = sc_y.inverse_transform(y_pred)\n",
        "#Now the prediction gives us the scaled value of y\n",
        "#Thus we need inverse transformation of the scaled value for the real results\n",
        "\n",
        "print(y_pred)"
      ]
    },
    {
      "cell_type": "code",
      "execution_count": null,
      "metadata": {
        "id": "XEXsUh8jQrDp",
        "outputId": "f1a46832-b241-40fc-be5f-0345413c5641"
      },
      "outputs": [
        {
          "data": {
            "image/png": "[encoded data removed]",
            "text/plain": [
              "<Figure size 432x288 with 1 Axes>"
            ]
          },
          "metadata": {
            "needs_background": "light"
          },
          "output_type": "display_data"
        }
      ],
      "source": [
        "# Visualising the SVR results\n",
        "plt.scatter(X, y, color = 'blue')\n",
        "plt.plot(X, regressor.predict(X), color = 'red')\n",
        "plt.title('Happiness')\n",
        "plt.show()"
      ]
    },
    {
      "cell_type": "code",
      "execution_count": null,
      "metadata": {
        "id": "fwKMPCbeQrDp",
        "outputId": "a4bdbf27-12a2-46a4-d413-fcc164be56d3"
      },
      "outputs": [
        {
          "name": "stdout",
          "output_type": "stream",
          "text": [
            "Mean absolute error (MAE): 1.13\n",
            "Residual sum of squares (MSE): 1.97\n",
            "Root Mean Squared Error (RMSE): 1.40\n",
            "Mean Precentage Absolute Error (MAPE): 0.23\n",
            "R2-score: 0.34\n"
          ]
        }
      ],
      "source": [
        "from sklearn.metrics import r2_score\n",
        "\n",
        "test_x = np.asanyarray(cdf[['social_suport']])\n",
        "test_y = np.asanyarray(cdf[['Score']])\n",
        "test_y_ = sc_y.inverse_transform(regressor.predict(sc_X.transform(test_x)))\n",
        "\n",
        "mae  = np.mean(np.absolute(test_y_ - test_y))\n",
        "mse  = np.mean((test_y_ - test_y) ** 2)\n",
        "rmse = np.sqrt(mse)\n",
        "mape = np.mean(np.absolute((test_y_ - test_y)/test_y_))\n",
        "\n",
        "print(\"Mean absolute error (MAE): %.2f\" % mae)\n",
        "print(\"Residual sum of squares (MSE): %.2f\" % mse)\n",
        "print(\"Root Mean Squared Error (RMSE): %.2f\" % rmse)\n",
        "print(\"Mean Precentage Absolute Error (MAPE): %.2f\" % mape)\n",
        "print(\"R2-score: %.2f\" % r2_score(test_y_ , test_y))"
      ]
    },
    {
      "cell_type": "markdown",
      "metadata": {
        "id": "yPaEV1WzQrDp"
      },
      "source": [
        "### Non-Linear Regression"
      ]
    },
    {
      "cell_type": "code",
      "execution_count": null,
      "metadata": {
        "id": "-hzD-91dQrDp",
        "outputId": "4cf8dad0-1fc2-49f1-b010-dc6879ca744d"
      },
      "outputs": [
        {
          "data": {
            "image/png": "[encoded data removed]",
            "text/plain": [
              "<Figure size 576x360 with 1 Axes>"
            ]
          },
          "metadata": {
            "needs_background": "light"
          },
          "output_type": "display_data"
        }
      ],
      "source": [
        "plt.figure(figsize=(8,5))\n",
        "x_data, y_data = (dataset[\"social_suport\"].values, dataset[\"Score\"].values)\n",
        "plt.plot(x_data, y_data, 'ro')\n",
        "plt.ylabel('Score')\n",
        "plt.xlabel('Social Support Value')\n",
        "plt.show()"
      ]
    },
    {
      "cell_type": "code",
      "execution_count": null,
      "metadata": {
        "id": "2n8mhG6-QrDp"
      },
      "outputs": [],
      "source": [
        "def sigmoid(x, Beta_1, Beta_2):\n",
        "     y = 1 / (1 + np.exp(-Beta_1*(x-Beta_2)))\n",
        "     return y"
      ]
    },
    {
      "cell_type": "code",
      "execution_count": null,
      "metadata": {
        "id": "lekfCyl7QrDq",
        "outputId": "c952556b-0fa3-4b9f-e057-78002f81cd76"
      },
      "outputs": [
        {
          "data": {
            "text/plain": [
              "[<matplotlib.lines.Line2D at 0x1af03f552e0>]"
            ]
          },
          "execution_count": 133,
          "metadata": {},
          "output_type": "execute_result"
        },
        {
          "data": {
            "image/png": "[encoded data removed]",
            "text/plain": [
              "<Figure size 432x288 with 1 Axes>"
            ]
          },
          "metadata": {
            "needs_background": "light"
          },
          "output_type": "display_data"
        }
      ],
      "source": [
        "beta_1 = 0.10\n",
        "beta_2 = 1990.0\n",
        "\n",
        "#logistic function\n",
        "Y_pred = sigmoid(x_data, beta_1 , beta_2)\n",
        "\n",
        "#plot initial prediction against datapoints\n",
        "plt.plot(x_data, Y_pred*15000000000000.)\n",
        "plt.plot(x_data, y_data, 'ro')"
      ]
    },
    {
      "cell_type": "code",
      "execution_count": null,
      "metadata": {
        "id": "Eaut2ougQrDq"
      },
      "outputs": [],
      "source": [
        "# Lets normalize our data\n",
        "xdata =x_data/max(x_data)\n",
        "ydata =y_data/max(y_data)"
      ]
    },
    {
      "cell_type": "code",
      "execution_count": null,
      "metadata": {
        "id": "aXYEjQ7WQrDq",
        "outputId": "3c8b3a1f-fbc1-4a34-aa6b-82a3e275a8df"
      },
      "outputs": [
        {
          "name": "stdout",
          "output_type": "stream",
          "text": [
            " beta_1 = 2.661323, beta_2 = 0.424573\n"
          ]
        }
      ],
      "source": [
        "from scipy.optimize import curve_fit\n",
        "popt, pcov = curve_fit(sigmoid, xdata, ydata)\n",
        "#print the final parameters\n",
        "print(\" beta_1 = %f, beta_2 = %f\" % (popt[0], popt[1]))"
      ]
    },
    {
      "cell_type": "code",
      "execution_count": null,
      "metadata": {
        "id": "PR1DYMIXQrDq",
        "outputId": "79012d38-366b-473d-9cb3-d07ec4630430"
      },
      "outputs": [
        {
          "data": {
            "image/png": "[encoded data removed]",
            "text/plain": [
              "<Figure size 576x360 with 1 Axes>"
            ]
          },
          "metadata": {
            "needs_background": "light"
          },
          "output_type": "display_data"
        }
      ],
      "source": [
        "x = np.linspace(1960, 2015, 55)\n",
        "x = x/max(x)\n",
        "plt.figure(figsize=(8,5))\n",
        "y = sigmoid(x, *popt)\n",
        "plt.plot(xdata, ydata, 'ro', label='data')\n",
        "plt.plot(x,y, linewidth=3.0, label='fit')\n",
        "plt.legend(loc='best')\n",
        "plt.ylabel('Score')\n",
        "plt.xlabel('Social Support Value')\n",
        "plt.show()"
      ]
    }
  ],
  "metadata": {
    "kernelspec": {
      "display_name": "Python 3",
      "language": "python",
      "name": "python3"
    },
    "language_info": {
      "codemirror_mode": {
        "name": "ipython",
        "version": 3
      },
      "file_extension": ".py",
      "mimetype": "text/x-python",
      "name": "python",
      "nbconvert_exporter": "python",
      "pygments_lexer": "ipython3",
      "version": "3.8.5"
    },
    "colab": {
      "name": "Regression.ipynb",
      "provenance": [],
      "include_colab_link": true
    }
  },
  "nbformat": 4,
  "nbformat_minor": 0
}