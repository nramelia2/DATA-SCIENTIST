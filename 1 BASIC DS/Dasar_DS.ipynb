{
  "nbformat": 4,
  "nbformat_minor": 0,
  "metadata": {
    "colab": {
      "name": "Dasar_DS.ipynb",
      "provenance": [],
      "collapsed_sections": [],
      "include_colab_link": true
    },
    "kernelspec": {
      "name": "python3",
      "display_name": "Python 3"
    },
    "language_info": {
      "name": "python"
    }
  },
  "cells": [
    {
      "cell_type": "markdown",
      "metadata": {
        "id": "view-in-github",
        "colab_type": "text"
      },
      "source": [
        "<a href=\"https://colab.research.google.com/github/nramelia2/DATA-SCIENTIST/blob/main/1%20BASIC%20DS/Dasar_DS.ipynb\" target=\"_parent\"><img src=\"https://colab.research.google.com/assets/colab-badge.svg\" alt=\"Open In Colab\"/></a>"
      ]
    },
    {
      "cell_type": "code",
      "execution_count": null,
      "metadata": {
        "id": "wJH-mStWCmDT"
      },
      "outputs": [],
      "source": [
        "import pandas as pd\n",
        "import matplotlib.pyplot as plt"
      ]
    },
    {
      "cell_type": "code",
      "source": [
        "covid = pd.read_csv('/content/covid_south_america_weekly_trend.csv')\n",
        "covid"
      ],
      "metadata": {
        "colab": {
          "base_uri": "https://localhost:8080/",
          "height": 536
        },
        "id": "jagWnmeMDqR0",
        "outputId": "34ed2b34-f462-4cc6-c6f5-1be94a0f8663"
      },
      "execution_count": null,
      "outputs": [
        {
          "output_type": "execute_result",
          "data": {
            "text/html": [
              "\n",
              "  <div id=\"df-16076d7a-c1eb-46c3-afb7-6ada380a5088\">\n",
              "    <div class=\"colab-df-container\">\n",
              "      <div>\n",
              "<style scoped>\n",
              "    .dataframe tbody tr th:only-of-type {\n",
              "        vertical-align: middle;\n",
              "    }\n",
              "\n",
              "    .dataframe tbody tr th {\n",
              "        vertical-align: top;\n",
              "    }\n",
              "\n",
              "    .dataframe thead th {\n",
              "        text-align: right;\n",
              "    }\n",
              "</style>\n",
              "<table border=\"1\" class=\"dataframe\">\n",
              "  <thead>\n",
              "    <tr style=\"text-align: right;\">\n",
              "      <th></th>\n",
              "      <th>Country</th>\n",
              "      <th>Cases in the last 7 days</th>\n",
              "      <th>Cases in the preceding 7 days</th>\n",
              "      <th>Weekly Case % Change</th>\n",
              "      <th>Cases in the last 7 days/1M pop</th>\n",
              "      <th>Deaths in the last 7 days</th>\n",
              "      <th>Deaths in the preceding 7 days</th>\n",
              "      <th>Weekly Death % Change</th>\n",
              "      <th>Deaths in the last 7 days/1M pop</th>\n",
              "      <th>Population</th>\n",
              "    </tr>\n",
              "  </thead>\n",
              "  <tbody>\n",
              "    <tr>\n",
              "      <th>0</th>\n",
              "      <td>Argentina</td>\n",
              "      <td>70514</td>\n",
              "      <td>94792</td>\n",
              "      <td>-26</td>\n",
              "      <td>1537</td>\n",
              "      <td>863</td>\n",
              "      <td>1198</td>\n",
              "      <td>-28</td>\n",
              "      <td>19</td>\n",
              "      <td>45881008</td>\n",
              "    </tr>\n",
              "    <tr>\n",
              "      <th>1</th>\n",
              "      <td>Bolivia</td>\n",
              "      <td>3537</td>\n",
              "      <td>6862</td>\n",
              "      <td>-48</td>\n",
              "      <td>296</td>\n",
              "      <td>47</td>\n",
              "      <td>111</td>\n",
              "      <td>-58</td>\n",
              "      <td>4</td>\n",
              "      <td>11936049</td>\n",
              "    </tr>\n",
              "    <tr>\n",
              "      <th>2</th>\n",
              "      <td>Brazil</td>\n",
              "      <td>576463</td>\n",
              "      <td>741844</td>\n",
              "      <td>-22</td>\n",
              "      <td>2681</td>\n",
              "      <td>5051</td>\n",
              "      <td>5814</td>\n",
              "      <td>-13</td>\n",
              "      <td>23</td>\n",
              "      <td>215056109</td>\n",
              "    </tr>\n",
              "    <tr>\n",
              "      <th>3</th>\n",
              "      <td>Chile</td>\n",
              "      <td>194646</td>\n",
              "      <td>234595</td>\n",
              "      <td>-17</td>\n",
              "      <td>10040</td>\n",
              "      <td>874</td>\n",
              "      <td>732</td>\n",
              "      <td>19</td>\n",
              "      <td>45</td>\n",
              "      <td>19387329</td>\n",
              "    </tr>\n",
              "    <tr>\n",
              "      <th>4</th>\n",
              "      <td>Colombia</td>\n",
              "      <td>17132</td>\n",
              "      <td>29098</td>\n",
              "      <td>-41</td>\n",
              "      <td>331</td>\n",
              "      <td>602</td>\n",
              "      <td>1043</td>\n",
              "      <td>-42</td>\n",
              "      <td>12</td>\n",
              "      <td>51778918</td>\n",
              "    </tr>\n",
              "    <tr>\n",
              "      <th>5</th>\n",
              "      <td>Ecuador</td>\n",
              "      <td>8999</td>\n",
              "      <td>21531</td>\n",
              "      <td>-58</td>\n",
              "      <td>498</td>\n",
              "      <td>69</td>\n",
              "      <td>119</td>\n",
              "      <td>-42</td>\n",
              "      <td>4</td>\n",
              "      <td>18085567</td>\n",
              "    </tr>\n",
              "    <tr>\n",
              "      <th>6</th>\n",
              "      <td>French Guiana</td>\n",
              "      <td>198</td>\n",
              "      <td>290</td>\n",
              "      <td>-32</td>\n",
              "      <td>636</td>\n",
              "      <td>4</td>\n",
              "      <td>3</td>\n",
              "      <td>33</td>\n",
              "      <td>13</td>\n",
              "      <td>311460</td>\n",
              "    </tr>\n",
              "    <tr>\n",
              "      <th>7</th>\n",
              "      <td>Guyana</td>\n",
              "      <td>253</td>\n",
              "      <td>482</td>\n",
              "      <td>-48</td>\n",
              "      <td>319</td>\n",
              "      <td>10</td>\n",
              "      <td>20</td>\n",
              "      <td>-50</td>\n",
              "      <td>13</td>\n",
              "      <td>792824</td>\n",
              "    </tr>\n",
              "    <tr>\n",
              "      <th>8</th>\n",
              "      <td>Paraguay</td>\n",
              "      <td>5772</td>\n",
              "      <td>12195</td>\n",
              "      <td>-53</td>\n",
              "      <td>793</td>\n",
              "      <td>155</td>\n",
              "      <td>309</td>\n",
              "      <td>-50</td>\n",
              "      <td>21</td>\n",
              "      <td>7277276</td>\n",
              "    </tr>\n",
              "    <tr>\n",
              "      <th>9</th>\n",
              "      <td>Peru</td>\n",
              "      <td>21416</td>\n",
              "      <td>55235</td>\n",
              "      <td>-61</td>\n",
              "      <td>635</td>\n",
              "      <td>1109</td>\n",
              "      <td>1178</td>\n",
              "      <td>-6</td>\n",
              "      <td>33</td>\n",
              "      <td>33730556</td>\n",
              "    </tr>\n",
              "    <tr>\n",
              "      <th>10</th>\n",
              "      <td>Suriname</td>\n",
              "      <td>436</td>\n",
              "      <td>758</td>\n",
              "      <td>-42</td>\n",
              "      <td>732</td>\n",
              "      <td>6</td>\n",
              "      <td>11</td>\n",
              "      <td>-45</td>\n",
              "      <td>10</td>\n",
              "      <td>595317</td>\n",
              "    </tr>\n",
              "    <tr>\n",
              "      <th>11</th>\n",
              "      <td>Uruguay</td>\n",
              "      <td>25974</td>\n",
              "      <td>39610</td>\n",
              "      <td>-34</td>\n",
              "      <td>7435</td>\n",
              "      <td>96</td>\n",
              "      <td>121</td>\n",
              "      <td>-21</td>\n",
              "      <td>27</td>\n",
              "      <td>3493624</td>\n",
              "    </tr>\n",
              "    <tr>\n",
              "      <th>12</th>\n",
              "      <td>Venezuela</td>\n",
              "      <td>3762</td>\n",
              "      <td>5834</td>\n",
              "      <td>-36</td>\n",
              "      <td>133</td>\n",
              "      <td>29</td>\n",
              "      <td>64</td>\n",
              "      <td>-55</td>\n",
              "      <td>1</td>\n",
              "      <td>28302786</td>\n",
              "    </tr>\n",
              "  </tbody>\n",
              "</table>\n",
              "</div>\n",
              "      <button class=\"colab-df-convert\" onclick=\"convertToInteractive('df-16076d7a-c1eb-46c3-afb7-6ada380a5088')\"\n",
              "              title=\"Convert this dataframe to an interactive table.\"\n",
              "              style=\"display:none;\">\n",
              "        \n",
              "  <svg xmlns=\"http://www.w3.org/2000/svg\" height=\"24px\"viewBox=\"0 0 24 24\"\n",
              "       width=\"24px\">\n",
              "    <path d=\"M0 0h24v24H0V0z\" fill=\"none\"/>\n",
              "    <path d=\"M18.56 5.44l.94 2.06.94-2.06 2.06-.94-2.06-.94-.94-2.06-.94 2.06-2.06.94zm-11 1L8.5 8.5l.94-2.06 2.06-.94-2.06-.94L8.5 2.5l-.94 2.06-2.06.94zm10 10l.94 2.06.94-2.06 2.06-.94-2.06-.94-.94-2.06-.94 2.06-2.06.94z\"/><path d=\"M17.41 7.96l-1.37-1.37c-.4-.4-.92-.59-1.43-.59-.52 0-1.04.2-1.43.59L10.3 9.45l-7.72 7.72c-.78.78-.78 2.05 0 2.83L4 21.41c.39.39.9.59 1.41.59.51 0 1.02-.2 1.41-.59l7.78-7.78 2.81-2.81c.8-.78.8-2.07 0-2.86zM5.41 20L4 18.59l7.72-7.72 1.47 1.35L5.41 20z\"/>\n",
              "  </svg>\n",
              "      </button>\n",
              "      \n",
              "  <style>\n",
              "    .colab-df-container {\n",
              "      display:flex;\n",
              "      flex-wrap:wrap;\n",
              "      gap: 12px;\n",
              "    }\n",
              "\n",
              "    .colab-df-convert {\n",
              "      background-color: #E8F0FE;\n",
              "      border: none;\n",
              "      border-radius: 50%;\n",
              "      cursor: pointer;\n",
              "      display: none;\n",
              "      fill: #1967D2;\n",
              "      height: 32px;\n",
              "      padding: 0 0 0 0;\n",
              "      width: 32px;\n",
              "    }\n",
              "\n",
              "    .colab-df-convert:hover {\n",
              "      background-color: #E2EBFA;\n",
              "      box-shadow: 0px 1px 2px rgba(60, 64, 67, 0.3), 0px 1px 3px 1px rgba(60, 64, 67, 0.15);\n",
              "      fill: #174EA6;\n",
              "    }\n",
              "\n",
              "    [theme=dark] .colab-df-convert {\n",
              "      background-color: #3B4455;\n",
              "      fill: #D2E3FC;\n",
              "    }\n",
              "\n",
              "    [theme=dark] .colab-df-convert:hover {\n",
              "      background-color: #434B5C;\n",
              "      box-shadow: 0px 1px 3px 1px rgba(0, 0, 0, 0.15);\n",
              "      filter: drop-shadow(0px 1px 2px rgba(0, 0, 0, 0.3));\n",
              "      fill: #FFFFFF;\n",
              "    }\n",
              "  </style>\n",
              "\n",
              "      <script>\n",
              "        const buttonEl =\n",
              "          document.querySelector('#df-16076d7a-c1eb-46c3-afb7-6ada380a5088 button.colab-df-convert');\n",
              "        buttonEl.style.display =\n",
              "          google.colab.kernel.accessAllowed ? 'block' : 'none';\n",
              "\n",
              "        async function convertToInteractive(key) {\n",
              "          const element = document.querySelector('#df-16076d7a-c1eb-46c3-afb7-6ada380a5088');\n",
              "          const dataTable =\n",
              "            await google.colab.kernel.invokeFunction('convertToInteractive',\n",
              "                                                     [key], {});\n",
              "          if (!dataTable) return;\n",
              "\n",
              "          const docLinkHtml = 'Like what you see? Visit the ' +\n",
              "            '<a target=\"_blank\" href=https://colab.research.google.com/notebooks/data_table.ipynb>data table notebook</a>'\n",
              "            + ' to learn more about interactive tables.';\n",
              "          element.innerHTML = '';\n",
              "          dataTable['output_type'] = 'display_data';\n",
              "          await google.colab.output.renderOutput(dataTable, element);\n",
              "          const docLink = document.createElement('div');\n",
              "          docLink.innerHTML = docLinkHtml;\n",
              "          element.appendChild(docLink);\n",
              "        }\n",
              "      </script>\n",
              "    </div>\n",
              "  </div>\n",
              "  "
            ],
            "text/plain": [
              "          Country  ...  Population\n",
              "0       Argentina  ...    45881008\n",
              "1         Bolivia  ...    11936049\n",
              "2          Brazil  ...   215056109\n",
              "3           Chile  ...    19387329\n",
              "4        Colombia  ...    51778918\n",
              "5         Ecuador  ...    18085567\n",
              "6   French Guiana  ...      311460\n",
              "7          Guyana  ...      792824\n",
              "8        Paraguay  ...     7277276\n",
              "9            Peru  ...    33730556\n",
              "10       Suriname  ...      595317\n",
              "11        Uruguay  ...     3493624\n",
              "12      Venezuela  ...    28302786\n",
              "\n",
              "[13 rows x 10 columns]"
            ]
          },
          "metadata": {},
          "execution_count": 49
        }
      ]
    },
    {
      "cell_type": "code",
      "source": [
        "covid_deaths_last_7_days = covid['Deaths in the last 7 days']\n",
        "covid_deaths_last_7_days"
      ],
      "metadata": {
        "colab": {
          "base_uri": "https://localhost:8080/"
        },
        "id": "bCoL7A-RFD_b",
        "outputId": "660a9d0e-5b61-4bef-d2ee-0d7c25337db5"
      },
      "execution_count": null,
      "outputs": [
        {
          "output_type": "execute_result",
          "data": {
            "text/plain": [
              "0      863\n",
              "1       47\n",
              "2     5051\n",
              "3      874\n",
              "4      602\n",
              "5       69\n",
              "6        4\n",
              "7       10\n",
              "8      155\n",
              "9     1109\n",
              "10       6\n",
              "11      96\n",
              "12      29\n",
              "Name: Deaths in the last 7 days, dtype: int64"
            ]
          },
          "metadata": {},
          "execution_count": 50
        }
      ]
    },
    {
      "cell_type": "code",
      "source": [
        "covid_country = covid.Country\n",
        "covid_country"
      ],
      "metadata": {
        "colab": {
          "base_uri": "https://localhost:8080/"
        },
        "id": "tsRH1STNFx68",
        "outputId": "fd08292c-f494-4c60-f915-7292033fbe43"
      },
      "execution_count": null,
      "outputs": [
        {
          "output_type": "execute_result",
          "data": {
            "text/plain": [
              "0         Argentina\n",
              "1           Bolivia\n",
              "2            Brazil\n",
              "3             Chile\n",
              "4          Colombia\n",
              "5           Ecuador\n",
              "6     French Guiana\n",
              "7            Guyana\n",
              "8          Paraguay\n",
              "9              Peru\n",
              "10         Suriname\n",
              "11          Uruguay\n",
              "12        Venezuela\n",
              "Name: Country, dtype: object"
            ]
          },
          "metadata": {},
          "execution_count": 51
        }
      ]
    },
    {
      "cell_type": "code",
      "source": [
        "plt.plot(covid_country, covid_deaths_last_7_days)\n",
        "plt.xlabel('Country')\n",
        "plt.ylabel('Covid Deaths Last 7 Days')\n",
        "plt.xticks(rotation=90) #agar tulisan di sumbu x di rotasi, karena kalau ga dirotasi bertabrakan"
      ],
      "metadata": {
        "colab": {
          "base_uri": "https://localhost:8080/",
          "height": 376
        },
        "id": "ZetWHOX-KlAK",
        "outputId": "1372d084-e1e2-486b-fc9e-563e226d7706"
      },
      "execution_count": null,
      "outputs": [
        {
          "output_type": "execute_result",
          "data": {
            "text/plain": [
              "([0, 1, 2, 3, 4, 5, 6, 7, 8, 9, 10, 11, 12],\n",
              " <a list of 13 Text major ticklabel objects>)"
            ]
          },
          "metadata": {},
          "execution_count": 65
        },
        {
          "output_type": "display_data",
          "data": {
            "image/png": "[encoded data removed]",
            "text/plain": [
              "<Figure size 432x288 with 1 Axes>"
            ]
          },
          "metadata": {
            "needs_background": "light"
          }
        }
      ]
    },
    {
      "cell_type": "code",
      "source": [
        "plt.scatter(covid_country, covid_deaths_last_7_days)\n",
        "plt.xlabel('Country')\n",
        "plt.ylabel('Covid Deaths Last 7 Days')\n",
        "plt.xticks(rotation=90)"
      ],
      "metadata": {
        "colab": {
          "base_uri": "https://localhost:8080/",
          "height": 376
        },
        "id": "B3P4TrUbbL7D",
        "outputId": "2fabc6d8-55c9-4972-f49d-d0803bf92b54"
      },
      "execution_count": null,
      "outputs": [
        {
          "output_type": "execute_result",
          "data": {
            "text/plain": [
              "([0, 1, 2, 3, 4, 5, 6, 7, 8, 9, 10, 11, 12],\n",
              " <a list of 13 Text major ticklabel objects>)"
            ]
          },
          "metadata": {},
          "execution_count": 66
        },
        {
          "output_type": "display_data",
          "data": {
            "image/png": "[encoded data removed]",
            "text/plain": [
              "<Figure size 432x288 with 1 Axes>"
            ]
          },
          "metadata": {
            "needs_background": "light"
          }
        }
      ]
    },
    {
      "cell_type": "code",
      "source": [
        "plt.bar(covid_country, covid_deaths_last_7_days)\n",
        "plt.xlabel('Country')\n",
        "plt.ylabel('Covid Deaths Last 7 Days')\n",
        "plt.xticks(rotation=90)"
      ],
      "metadata": {
        "colab": {
          "base_uri": "https://localhost:8080/",
          "height": 376
        },
        "id": "V2wO_XJvcejK",
        "outputId": "9e2ac2b5-d329-40b2-81ce-47e9202e0d50"
      },
      "execution_count": null,
      "outputs": [
        {
          "output_type": "execute_result",
          "data": {
            "text/plain": [
              "([0, 1, 2, 3, 4, 5, 6, 7, 8, 9, 10, 11, 12],\n",
              " <a list of 13 Text major ticklabel objects>)"
            ]
          },
          "metadata": {},
          "execution_count": 67
        },
        {
          "output_type": "display_data",
          "data": {
            "image/png": "[encoded data removed]",
            "text/plain": [
              "<Figure size 432x288 with 1 Axes>"
            ]
          },
          "metadata": {
            "needs_background": "light"
          }
        }
      ]
    }
  ]
}