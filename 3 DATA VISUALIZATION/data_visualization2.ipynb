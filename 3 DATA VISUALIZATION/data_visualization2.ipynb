{
  "cells": [
    {
      "cell_type": "markdown",
      "metadata": {
        "id": "view-in-github",
        "colab_type": "text"
      },
      "source": [
        "<a href=\"https://colab.research.google.com/github/nramelia2/DATA-SCIENTIST/blob/main/3%20DATA%20VISUALIZATION/data_visualization2.ipynb\" target=\"_parent\"><img src=\"https://colab.research.google.com/assets/colab-badge.svg\" alt=\"Open In Colab\"/></a>"
      ]
    },
    {
      "cell_type": "markdown",
      "metadata": {
        "id": "L-TVdo2UFKRG"
      },
      "source": [
        "### Latihan (1) \n",
        "MatriksC dengan orde 2x3 : Baris 1 Kolom 1, nilai = 1 Baris 1 Kolom 2, nilai = 2 Baris 1 Kolom 3, nilai = 3 Baris 2 Kolom 1, nilai = 4 Baris 2 Kolom 2, nilai = 5 Baris 2 Kolom 3, nilai = 6"
      ]
    },
    {
      "cell_type": "code",
      "execution_count": null,
      "metadata": {
        "id": "su2IGbzkFKRL",
        "outputId": "8b99c4ee-d2ac-4215-8904-2f539b2c4540"
      },
      "outputs": [
        {
          "name": "stdout",
          "output_type": "stream",
          "text": [
            "[[1, 2, 3], [4, 5, 6]]\n"
          ]
        }
      ],
      "source": [
        "# Matriks 2x3\n",
        "matriksC = [ [1,2,3], [4,5,6] ]\n",
        "print(matriksC)"
      ]
    },
    {
      "cell_type": "markdown",
      "metadata": {
        "id": "N_c2ewzcFKRN"
      },
      "source": [
        "### Latihan (2)\n",
        "Matriks dengan orde 3x2 : Baris 1 Kolom 1, nilai = 2 Baris 1 Kolom 2, nilai = 2 Baris 2 Kolom 1, nilai = 2 Baris 2 Kolom 2, nilai = 2 Baris 3 Kolom 1, nilai = 2 Baris 3 Kolom 2, nilai = 2"
      ]
    },
    {
      "cell_type": "code",
      "execution_count": null,
      "metadata": {
        "id": "DvmjkW1uFKRO",
        "outputId": "a8a812d7-bdf7-4c8f-93fc-ab638fb6b0c0"
      },
      "outputs": [
        {
          "name": "stdout",
          "output_type": "stream",
          "text": [
            "[[2, 2], [2, 2], [2, 2]]\n"
          ]
        }
      ],
      "source": [
        "# Matriks dengan menggunakan fungsi perulangan\n",
        "m = 3\n",
        "n = 2\n",
        "x = [0]*m\n",
        "# Fungsi perulangan dengan menggunakan for\n",
        "for i in range(m) :\n",
        "    x[i] = [2]*n\n",
        "# Menampilkan matriks\n",
        "print (x)"
      ]
    },
    {
      "cell_type": "markdown",
      "metadata": {
        "id": "WbeM_QsIFKRP"
      },
      "source": [
        "### Latihan (3)\n",
        "Matriks dengan menggunakan Library Numpy dengan panjang elemen adalah 32 dan matriks memiliki orde 4x8"
      ]
    },
    {
      "cell_type": "code",
      "execution_count": null,
      "metadata": {
        "id": "EtMUVIGhFKRQ",
        "outputId": "8bd02fff-5219-4679-a921-1f7a260eb20a"
      },
      "outputs": [
        {
          "name": "stdout",
          "output_type": "stream",
          "text": [
            "[[ 0  1  2  3  4  5  6  7]\n",
            " [ 8  9 10 11 12 13 14 15]\n",
            " [16 17 18 19 20 21 22 23]\n",
            " [24 25 26 27 28 29 30 31]]\n"
          ]
        }
      ],
      "source": [
        "# Panggil Library Numpy\n",
        "from numpy import * \n",
        "# Menentukan panjang elemen sebanyak 32\n",
        "matriks = range(32)\n",
        "# Matriks orde adalah 4x8\n",
        "matriks = reshape(matriks,(4,8))\n",
        "# Menampilkan matriks\n",
        "print (matriks)"
      ]
    },
    {
      "cell_type": "markdown",
      "metadata": {
        "id": "7LAe4h5sFKRR"
      },
      "source": [
        "### Latihan (4)\n",
        "Matriks dengan menggunakan Library Numpy dengan orde 3x30, dan nilai elemen dimulai dari indeks 1 sampai dengan 5 secara random."
      ]
    },
    {
      "cell_type": "code",
      "execution_count": null,
      "metadata": {
        "id": "tURm_Jk0FKRS",
        "outputId": "987fce71-a1cb-4669-be65-49b11acbf259"
      },
      "outputs": [
        {
          "name": "stdout",
          "output_type": "stream",
          "text": [
            "[[1 2 4 2 4 1 3 4 4 3 2 4 3 4 4 3 4 3 1 1 2 3 2 3 1 3 4 1 1 4]\n",
            " [1 3 4 1 3 4 2 1 4 1 4 3 2 1 2 3 3 2 4 1 4 3 2 2 1 3 3 1 4 2]\n",
            " [1 2 3 1 4 2 2 2 2 2 4 2 1 2 2 4 2 3 3 2 4 4 3 3 2 1 2 1 1 3]]\n"
          ]
        }
      ],
      "source": [
        "# Memanggil Library numpy dan diberikan nama alias np\n",
        "import numpy as np\n",
        "# Membuat matriks ukuran 3x30 dengan random\n",
        "matriks = np.random.randint(1,5,(3,30))\n",
        "# Menampilkan matriks \n",
        "print (matriks)"
      ]
    },
    {
      "cell_type": "markdown",
      "metadata": {
        "id": "y-PncNoRFKRS"
      },
      "source": [
        "### Latihan (5)\n",
        "Penjumlahan dua matriks dengan menggunakan library Numpy, dengan matriks berukuran 7x9 yang nilainya didapatkan secara random."
      ]
    },
    {
      "cell_type": "code",
      "execution_count": null,
      "metadata": {
        "id": "VSOUYc09FKRT",
        "outputId": "f4df44cc-392b-4342-85a5-808b319340d2"
      },
      "outputs": [
        {
          "name": "stdout",
          "output_type": "stream",
          "text": [
            "[[3 8 7 2 8 7 7 1 5]\n",
            " [7 1 3 7 4 2 3 5 8]\n",
            " [5 4 4 5 8 1 7 3 3]\n",
            " [5 5 3 7 4 6 5 4 5]\n",
            " [2 6 5 6 7 1 2 2 6]\n",
            " [2 8 7 3 1 6 1 7 5]\n",
            " [7 6 4 6 5 6 4 1 1]]\n",
            "\n",
            "[[2 4 6 5 4 1 5 6 6]\n",
            " [5 6 4 3 1 2 5 2 2]\n",
            " [3 1 1 2 6 5 2 6 4]\n",
            " [4 4 1 2 3 2 6 5 2]\n",
            " [2 2 1 2 6 1 1 1 6]\n",
            " [3 4 1 2 3 2 5 3 1]\n",
            " [6 3 2 1 2 6 6 6 2]]\n",
            "\n",
            "Hasil Penjumlahan matriksA dan matriksB Baris ke- 1\n",
            "\n",
            "5 12 13 7 12 8 12 7 11 \n",
            "Hasil Penjumlahan matriksA dan matriksB Baris ke- 2\n",
            "\n",
            "12 7 7 10 5 4 8 7 10 \n",
            "Hasil Penjumlahan matriksA dan matriksB Baris ke- 3\n",
            "\n",
            "8 5 5 7 14 6 9 9 7 \n",
            "Hasil Penjumlahan matriksA dan matriksB Baris ke- 4\n",
            "\n",
            "9 9 4 9 7 8 11 9 7 \n",
            "Hasil Penjumlahan matriksA dan matriksB Baris ke- 5\n",
            "\n",
            "4 8 6 8 13 2 3 3 12 \n",
            "Hasil Penjumlahan matriksA dan matriksB Baris ke- 6\n",
            "\n",
            "5 12 8 5 4 8 6 10 6 \n",
            "Hasil Penjumlahan matriksA dan matriksB Baris ke- 7\n",
            "\n",
            "13 9 6 7 7 12 10 7 3 \n"
          ]
        }
      ],
      "source": [
        "#Penjumlahan Matriks\n",
        "import numpy as np\n",
        "matriksA = np.random.randint(1, 9,(7, 9))\n",
        "matriksB = np.random.randint(1, 7,(7, 9))\n",
        "print (matriksA)\n",
        "print () #memberikan spasi baris pada matriks yang tercetak\n",
        "print (matriksB)\n",
        "print ()\n",
        "\n",
        "#penjumlahan matriksA dan matriks B\n",
        "for x in range(0, len(matriksA)):\n",
        "    print ('Hasil Penjumlahan matriksA dan matriksB', 'Baris ke-', x+1)\n",
        "    print ()\n",
        "    for y in range(0, len(matriksA[0])):\n",
        "        print (matriksA[x][y] + matriksB[x][y], end=' '),\n",
        "    print ()"
      ]
    },
    {
      "cell_type": "markdown",
      "metadata": {
        "id": "rEQGOyy0FKRT"
      },
      "source": [
        "### Latihan (6)\n",
        "Pengurangan dua matriks dengan menggunakan library Numpy, dengan matriks berukuran 7x9 yang nilainya didapatkan secara random."
      ]
    },
    {
      "cell_type": "code",
      "execution_count": null,
      "metadata": {
        "id": "tjXnlCucFKRU",
        "outputId": "ab85a6fb-bc40-4e5c-cd69-7628e4d1a991"
      },
      "outputs": [
        {
          "name": "stdout",
          "output_type": "stream",
          "text": [
            "[[7 3 1 2 7 6 2 7 5]\n",
            " [2 6 8 7 8 1 6 3 5]\n",
            " [1 4 3 2 2 3 1 8 6]\n",
            " [6 1 4 4 3 1 4 6 6]\n",
            " [4 8 1 1 4 6 5 3 6]\n",
            " [2 3 5 7 4 6 6 1 6]\n",
            " [8 5 2 2 5 3 8 6 6]]\n",
            "\n",
            "[[2 2 3 1 2 6 6 3 5]\n",
            " [2 5 2 1 6 3 4 5 2]\n",
            " [2 1 6 4 5 4 3 2 2]\n",
            " [1 6 3 4 1 5 2 3 4]\n",
            " [3 5 5 2 1 2 4 2 3]\n",
            " [1 1 4 1 4 5 6 4 1]\n",
            " [2 1 5 3 4 2 1 6 5]]\n",
            "\n",
            "Hasil Pengurangan matriksA dan matriksB Baris ke- 1\n",
            "\n",
            "5 1 -2 1 5 0 -4 4 0 \n",
            "Hasil Pengurangan matriksA dan matriksB Baris ke- 2\n",
            "\n",
            "0 1 6 6 2 -2 2 -2 3 \n",
            "Hasil Pengurangan matriksA dan matriksB Baris ke- 3\n",
            "\n",
            "-1 3 -3 -2 -3 -1 -2 6 4 \n",
            "Hasil Pengurangan matriksA dan matriksB Baris ke- 4\n",
            "\n",
            "5 -5 1 0 2 -4 2 3 2 \n",
            "Hasil Pengurangan matriksA dan matriksB Baris ke- 5\n",
            "\n",
            "1 3 -4 -1 3 4 1 1 3 \n",
            "Hasil Pengurangan matriksA dan matriksB Baris ke- 6\n",
            "\n",
            "1 2 1 6 0 1 0 -3 5 \n",
            "Hasil Pengurangan matriksA dan matriksB Baris ke- 7\n",
            "\n",
            "6 4 -3 -1 1 1 7 0 1 \n"
          ]
        }
      ],
      "source": [
        "#Pengurangan Matriks\n",
        "import numpy as np\n",
        "matriksA = np.random.randint(1, 9,(7, 9))\n",
        "matriksB = np.random.randint(1, 7,(7, 9))\n",
        "print (matriksA)\n",
        "print () #memberikan spasi baris pada matriks yang tercetak\n",
        "print (matriksB)\n",
        "print ()\n",
        "\n",
        "#pengurangan matriksA dengan matriks B\n",
        "for x in range(0, len(matriksA)):\n",
        "    print ('Hasil Pengurangan matriksA dan matriksB', 'Baris ke-', x+1)\n",
        "    print ()\n",
        "    for y in range(0, len(matriksA[0])):\n",
        "        print (matriksA[x][y] - matriksB[x][y], end=' '),\n",
        "    print ()"
      ]
    },
    {
      "cell_type": "markdown",
      "metadata": {
        "id": "_nBY_4ZKFKRU"
      },
      "source": [
        "# Penggunaan Library Pandas"
      ]
    },
    {
      "cell_type": "markdown",
      "metadata": {
        "id": "09rIukWvFKRV"
      },
      "source": [
        "### Latihan (7)\n",
        "Lakukan Import Library Pandas"
      ]
    },
    {
      "cell_type": "code",
      "execution_count": null,
      "metadata": {
        "id": "XCPHrbZPFKRV"
      },
      "outputs": [],
      "source": [
        "# Import Library Pandas\n",
        "import pandas as pd"
      ]
    },
    {
      "cell_type": "markdown",
      "metadata": {
        "id": "ASWm2u50FKRV"
      },
      "source": [
        "### Latihan (8)\n",
        "Panggil file dengan format .csv"
      ]
    },
    {
      "cell_type": "code",
      "execution_count": null,
      "metadata": {
        "id": "-fe7rqp-FKRV"
      },
      "outputs": [],
      "source": [
        "perth_house = pd.read_csv('all_perth_310121.csv')"
      ]
    },
    {
      "cell_type": "markdown",
      "metadata": {
        "id": "5GNX3aXiFKRW"
      },
      "source": [
        "### Latihan (9)\n",
        "Tampilkan data dari 'perth_house'"
      ]
    },
    {
      "cell_type": "code",
      "execution_count": null,
      "metadata": {
        "id": "52AQdymEFKRW",
        "outputId": "ef8a7ecd-57f9-4733-af23-7ead7bfb1c4d"
      },
      "outputs": [
        {
          "data": {
            "text/html": [
              "<div>\n",
              "<style scoped>\n",
              "    .dataframe tbody tr th:only-of-type {\n",
              "        vertical-align: middle;\n",
              "    }\n",
              "\n",
              "    .dataframe tbody tr th {\n",
              "        vertical-align: top;\n",
              "    }\n",
              "\n",
              "    .dataframe thead th {\n",
              "        text-align: right;\n",
              "    }\n",
              "</style>\n",
              "<table border=\"1\" class=\"dataframe\">\n",
              "  <thead>\n",
              "    <tr style=\"text-align: right;\">\n",
              "      <th></th>\n",
              "      <th>ADDRESS</th>\n",
              "      <th>SUBURB</th>\n",
              "      <th>PRICE</th>\n",
              "      <th>BEDROOMS</th>\n",
              "      <th>BATHROOMS</th>\n",
              "      <th>GARAGE</th>\n",
              "      <th>LAND_AREA</th>\n",
              "      <th>FLOOR_AREA</th>\n",
              "      <th>BUILD_YEAR</th>\n",
              "      <th>CBD_DIST</th>\n",
              "      <th>NEAREST_STN</th>\n",
              "      <th>NEAREST_STN_DIST</th>\n",
              "      <th>DATE_SOLD</th>\n",
              "      <th>POSTCODE</th>\n",
              "      <th>LATITUDE</th>\n",
              "      <th>LONGITUDE</th>\n",
              "      <th>NEAREST_SCH</th>\n",
              "      <th>NEAREST_SCH_DIST</th>\n",
              "      <th>NEAREST_SCH_RANK</th>\n",
              "    </tr>\n",
              "  </thead>\n",
              "  <tbody>\n",
              "    <tr>\n",
              "      <th>0</th>\n",
              "      <td>1 Acorn Place</td>\n",
              "      <td>South Lake</td>\n",
              "      <td>565000</td>\n",
              "      <td>4</td>\n",
              "      <td>2</td>\n",
              "      <td>2.0</td>\n",
              "      <td>600</td>\n",
              "      <td>160</td>\n",
              "      <td>2003.0</td>\n",
              "      <td>18300</td>\n",
              "      <td>Cockburn Central Station</td>\n",
              "      <td>1800</td>\n",
              "      <td>09-2018\\r</td>\n",
              "      <td>6164</td>\n",
              "      <td>-32.115900</td>\n",
              "      <td>115.842450</td>\n",
              "      <td>LAKELAND SENIOR HIGH SCHOOL</td>\n",
              "      <td>0.828339</td>\n",
              "      <td>NaN</td>\n",
              "    </tr>\n",
              "    <tr>\n",
              "      <th>1</th>\n",
              "      <td>1 Addis Way</td>\n",
              "      <td>Wandi</td>\n",
              "      <td>365000</td>\n",
              "      <td>3</td>\n",
              "      <td>2</td>\n",
              "      <td>2.0</td>\n",
              "      <td>351</td>\n",
              "      <td>139</td>\n",
              "      <td>2013.0</td>\n",
              "      <td>26900</td>\n",
              "      <td>Kwinana Station</td>\n",
              "      <td>4900</td>\n",
              "      <td>02-2019\\r</td>\n",
              "      <td>6167</td>\n",
              "      <td>-32.193470</td>\n",
              "      <td>115.859553</td>\n",
              "      <td>ATWELL COLLEGE</td>\n",
              "      <td>5.524324</td>\n",
              "      <td>129.0</td>\n",
              "    </tr>\n",
              "    <tr>\n",
              "      <th>2</th>\n",
              "      <td>1 Ainsley Court</td>\n",
              "      <td>Camillo</td>\n",
              "      <td>287000</td>\n",
              "      <td>3</td>\n",
              "      <td>1</td>\n",
              "      <td>1.0</td>\n",
              "      <td>719</td>\n",
              "      <td>86</td>\n",
              "      <td>1979.0</td>\n",
              "      <td>22600</td>\n",
              "      <td>Challis Station</td>\n",
              "      <td>1900</td>\n",
              "      <td>06-2015\\r</td>\n",
              "      <td>6111</td>\n",
              "      <td>-32.120578</td>\n",
              "      <td>115.993579</td>\n",
              "      <td>KELMSCOTT SENIOR HIGH SCHOOL</td>\n",
              "      <td>1.649178</td>\n",
              "      <td>113.0</td>\n",
              "    </tr>\n",
              "    <tr>\n",
              "      <th>3</th>\n",
              "      <td>1 Albert Street</td>\n",
              "      <td>Bellevue</td>\n",
              "      <td>255000</td>\n",
              "      <td>2</td>\n",
              "      <td>1</td>\n",
              "      <td>2.0</td>\n",
              "      <td>651</td>\n",
              "      <td>59</td>\n",
              "      <td>1953.0</td>\n",
              "      <td>17900</td>\n",
              "      <td>Midland Station</td>\n",
              "      <td>3600</td>\n",
              "      <td>07-2018\\r</td>\n",
              "      <td>6056</td>\n",
              "      <td>-31.900547</td>\n",
              "      <td>116.038009</td>\n",
              "      <td>SWAN VIEW SENIOR HIGH SCHOOL</td>\n",
              "      <td>1.571401</td>\n",
              "      <td>NaN</td>\n",
              "    </tr>\n",
              "    <tr>\n",
              "      <th>4</th>\n",
              "      <td>1 Aman Place</td>\n",
              "      <td>Lockridge</td>\n",
              "      <td>325000</td>\n",
              "      <td>4</td>\n",
              "      <td>1</td>\n",
              "      <td>2.0</td>\n",
              "      <td>466</td>\n",
              "      <td>131</td>\n",
              "      <td>1998.0</td>\n",
              "      <td>11200</td>\n",
              "      <td>Bassendean Station</td>\n",
              "      <td>2000</td>\n",
              "      <td>11-2016\\r</td>\n",
              "      <td>6054</td>\n",
              "      <td>-31.885790</td>\n",
              "      <td>115.947780</td>\n",
              "      <td>KIARA COLLEGE</td>\n",
              "      <td>1.514922</td>\n",
              "      <td>NaN</td>\n",
              "    </tr>\n",
              "    <tr>\n",
              "      <th>...</th>\n",
              "      <td>...</td>\n",
              "      <td>...</td>\n",
              "      <td>...</td>\n",
              "      <td>...</td>\n",
              "      <td>...</td>\n",
              "      <td>...</td>\n",
              "      <td>...</td>\n",
              "      <td>...</td>\n",
              "      <td>...</td>\n",
              "      <td>...</td>\n",
              "      <td>...</td>\n",
              "      <td>...</td>\n",
              "      <td>...</td>\n",
              "      <td>...</td>\n",
              "      <td>...</td>\n",
              "      <td>...</td>\n",
              "      <td>...</td>\n",
              "      <td>...</td>\n",
              "      <td>...</td>\n",
              "    </tr>\n",
              "    <tr>\n",
              "      <th>33651</th>\n",
              "      <td>9C Gold Street</td>\n",
              "      <td>South Fremantle</td>\n",
              "      <td>1040000</td>\n",
              "      <td>4</td>\n",
              "      <td>3</td>\n",
              "      <td>2.0</td>\n",
              "      <td>292</td>\n",
              "      <td>245</td>\n",
              "      <td>2013.0</td>\n",
              "      <td>16100</td>\n",
              "      <td>Fremantle Station</td>\n",
              "      <td>1500</td>\n",
              "      <td>03-2016\\r</td>\n",
              "      <td>6162</td>\n",
              "      <td>-32.064580</td>\n",
              "      <td>115.751820</td>\n",
              "      <td>CHRISTIAN BROTHERS' COLLEGE</td>\n",
              "      <td>1.430350</td>\n",
              "      <td>49.0</td>\n",
              "    </tr>\n",
              "    <tr>\n",
              "      <th>33652</th>\n",
              "      <td>9C Pycombe Way</td>\n",
              "      <td>Westminster</td>\n",
              "      <td>410000</td>\n",
              "      <td>3</td>\n",
              "      <td>2</td>\n",
              "      <td>2.0</td>\n",
              "      <td>228</td>\n",
              "      <td>114</td>\n",
              "      <td>NaN</td>\n",
              "      <td>9600</td>\n",
              "      <td>Stirling Station</td>\n",
              "      <td>4600</td>\n",
              "      <td>02-2017\\r</td>\n",
              "      <td>6061</td>\n",
              "      <td>-31.867055</td>\n",
              "      <td>115.841403</td>\n",
              "      <td>JOHN SEPTIMUS ROE ANGLICAN COMMUNITY SCHOOL</td>\n",
              "      <td>1.679644</td>\n",
              "      <td>35.0</td>\n",
              "    </tr>\n",
              "    <tr>\n",
              "      <th>33653</th>\n",
              "      <td>9D Pycombe Way</td>\n",
              "      <td>Westminster</td>\n",
              "      <td>427000</td>\n",
              "      <td>3</td>\n",
              "      <td>2</td>\n",
              "      <td>2.0</td>\n",
              "      <td>261</td>\n",
              "      <td>112</td>\n",
              "      <td>NaN</td>\n",
              "      <td>9600</td>\n",
              "      <td>Stirling Station</td>\n",
              "      <td>4600</td>\n",
              "      <td>02-2017\\r</td>\n",
              "      <td>6061</td>\n",
              "      <td>-31.866890</td>\n",
              "      <td>115.841418</td>\n",
              "      <td>JOHN SEPTIMUS ROE ANGLICAN COMMUNITY SCHOOL</td>\n",
              "      <td>1.669159</td>\n",
              "      <td>35.0</td>\n",
              "    </tr>\n",
              "    <tr>\n",
              "      <th>33654</th>\n",
              "      <td>9D Shalford Way</td>\n",
              "      <td>Girrawheen</td>\n",
              "      <td>295000</td>\n",
              "      <td>3</td>\n",
              "      <td>1</td>\n",
              "      <td>2.0</td>\n",
              "      <td>457</td>\n",
              "      <td>85</td>\n",
              "      <td>1974.0</td>\n",
              "      <td>12600</td>\n",
              "      <td>Warwick Station</td>\n",
              "      <td>4400</td>\n",
              "      <td>10-2016\\r</td>\n",
              "      <td>6064</td>\n",
              "      <td>-31.839680</td>\n",
              "      <td>115.842410</td>\n",
              "      <td>GIRRAWHEEN SENIOR HIGH SCHOOL</td>\n",
              "      <td>0.358494</td>\n",
              "      <td>NaN</td>\n",
              "    </tr>\n",
              "    <tr>\n",
              "      <th>33655</th>\n",
              "      <td>9E Margaret Street</td>\n",
              "      <td>Midland</td>\n",
              "      <td>295000</td>\n",
              "      <td>3</td>\n",
              "      <td>1</td>\n",
              "      <td>2.0</td>\n",
              "      <td>296</td>\n",
              "      <td>95</td>\n",
              "      <td>NaN</td>\n",
              "      <td>16700</td>\n",
              "      <td>Midland Station</td>\n",
              "      <td>1700</td>\n",
              "      <td>05-2016\\r</td>\n",
              "      <td>6056</td>\n",
              "      <td>-31.882163</td>\n",
              "      <td>116.014755</td>\n",
              "      <td>LA SALLE COLLEGE</td>\n",
              "      <td>1.055564</td>\n",
              "      <td>53.0</td>\n",
              "    </tr>\n",
              "  </tbody>\n",
              "</table>\n",
              "<p>33656 rows × 19 columns</p>\n",
              "</div>"
            ],
            "text/plain": [
              "                  ADDRESS           SUBURB    PRICE  BEDROOMS  BATHROOMS  \\\n",
              "0           1 Acorn Place       South Lake   565000         4          2   \n",
              "1             1 Addis Way            Wandi   365000         3          2   \n",
              "2         1 Ainsley Court          Camillo   287000         3          1   \n",
              "3         1 Albert Street         Bellevue   255000         2          1   \n",
              "4            1 Aman Place        Lockridge   325000         4          1   \n",
              "...                   ...              ...      ...       ...        ...   \n",
              "33651      9C Gold Street  South Fremantle  1040000         4          3   \n",
              "33652      9C Pycombe Way      Westminster   410000         3          2   \n",
              "33653      9D Pycombe Way      Westminster   427000         3          2   \n",
              "33654     9D Shalford Way       Girrawheen   295000         3          1   \n",
              "33655  9E Margaret Street          Midland   295000         3          1   \n",
              "\n",
              "       GARAGE  LAND_AREA  FLOOR_AREA  BUILD_YEAR  CBD_DIST  \\\n",
              "0         2.0        600         160      2003.0     18300   \n",
              "1         2.0        351         139      2013.0     26900   \n",
              "2         1.0        719          86      1979.0     22600   \n",
              "3         2.0        651          59      1953.0     17900   \n",
              "4         2.0        466         131      1998.0     11200   \n",
              "...       ...        ...         ...         ...       ...   \n",
              "33651     2.0        292         245      2013.0     16100   \n",
              "33652     2.0        228         114         NaN      9600   \n",
              "33653     2.0        261         112         NaN      9600   \n",
              "33654     2.0        457          85      1974.0     12600   \n",
              "33655     2.0        296          95         NaN     16700   \n",
              "\n",
              "                    NEAREST_STN  NEAREST_STN_DIST  DATE_SOLD  POSTCODE  \\\n",
              "0      Cockburn Central Station              1800  09-2018\\r      6164   \n",
              "1               Kwinana Station              4900  02-2019\\r      6167   \n",
              "2               Challis Station              1900  06-2015\\r      6111   \n",
              "3               Midland Station              3600  07-2018\\r      6056   \n",
              "4            Bassendean Station              2000  11-2016\\r      6054   \n",
              "...                         ...               ...        ...       ...   \n",
              "33651         Fremantle Station              1500  03-2016\\r      6162   \n",
              "33652          Stirling Station              4600  02-2017\\r      6061   \n",
              "33653          Stirling Station              4600  02-2017\\r      6061   \n",
              "33654           Warwick Station              4400  10-2016\\r      6064   \n",
              "33655           Midland Station              1700  05-2016\\r      6056   \n",
              "\n",
              "        LATITUDE   LONGITUDE                                  NEAREST_SCH  \\\n",
              "0     -32.115900  115.842450                  LAKELAND SENIOR HIGH SCHOOL   \n",
              "1     -32.193470  115.859553                               ATWELL COLLEGE   \n",
              "2     -32.120578  115.993579                 KELMSCOTT SENIOR HIGH SCHOOL   \n",
              "3     -31.900547  116.038009                 SWAN VIEW SENIOR HIGH SCHOOL   \n",
              "4     -31.885790  115.947780                                KIARA COLLEGE   \n",
              "...          ...         ...                                          ...   \n",
              "33651 -32.064580  115.751820                  CHRISTIAN BROTHERS' COLLEGE   \n",
              "33652 -31.867055  115.841403  JOHN SEPTIMUS ROE ANGLICAN COMMUNITY SCHOOL   \n",
              "33653 -31.866890  115.841418  JOHN SEPTIMUS ROE ANGLICAN COMMUNITY SCHOOL   \n",
              "33654 -31.839680  115.842410                GIRRAWHEEN SENIOR HIGH SCHOOL   \n",
              "33655 -31.882163  116.014755                             LA SALLE COLLEGE   \n",
              "\n",
              "       NEAREST_SCH_DIST  NEAREST_SCH_RANK  \n",
              "0              0.828339               NaN  \n",
              "1              5.524324             129.0  \n",
              "2              1.649178             113.0  \n",
              "3              1.571401               NaN  \n",
              "4              1.514922               NaN  \n",
              "...                 ...               ...  \n",
              "33651          1.430350              49.0  \n",
              "33652          1.679644              35.0  \n",
              "33653          1.669159              35.0  \n",
              "33654          0.358494               NaN  \n",
              "33655          1.055564              53.0  \n",
              "\n",
              "[33656 rows x 19 columns]"
            ]
          },
          "execution_count": 9,
          "metadata": {},
          "output_type": "execute_result"
        }
      ],
      "source": [
        "perth_house"
      ]
    },
    {
      "cell_type": "markdown",
      "metadata": {
        "id": "2rcNdcAHFKRW"
      },
      "source": [
        "### Latihan (10)\n",
        "Tampikan data dari 'perth_house' mulai dari indeks 0 sampai dengan indeks 9"
      ]
    },
    {
      "cell_type": "code",
      "execution_count": null,
      "metadata": {
        "id": "09XMlJCqFKRW",
        "outputId": "1332e654-e3fe-4618-c02e-497e767e0318"
      },
      "outputs": [
        {
          "data": {
            "text/html": [
              "<div>\n",
              "<style scoped>\n",
              "    .dataframe tbody tr th:only-of-type {\n",
              "        vertical-align: middle;\n",
              "    }\n",
              "\n",
              "    .dataframe tbody tr th {\n",
              "        vertical-align: top;\n",
              "    }\n",
              "\n",
              "    .dataframe thead th {\n",
              "        text-align: right;\n",
              "    }\n",
              "</style>\n",
              "<table border=\"1\" class=\"dataframe\">\n",
              "  <thead>\n",
              "    <tr style=\"text-align: right;\">\n",
              "      <th></th>\n",
              "      <th>ADDRESS</th>\n",
              "      <th>SUBURB</th>\n",
              "      <th>PRICE</th>\n",
              "      <th>BEDROOMS</th>\n",
              "      <th>BATHROOMS</th>\n",
              "      <th>GARAGE</th>\n",
              "      <th>LAND_AREA</th>\n",
              "      <th>FLOOR_AREA</th>\n",
              "      <th>BUILD_YEAR</th>\n",
              "      <th>CBD_DIST</th>\n",
              "    </tr>\n",
              "  </thead>\n",
              "  <tbody>\n",
              "    <tr>\n",
              "      <th>0</th>\n",
              "      <td>1 Acorn Place</td>\n",
              "      <td>South Lake</td>\n",
              "      <td>565000</td>\n",
              "      <td>4</td>\n",
              "      <td>2</td>\n",
              "      <td>2.0</td>\n",
              "      <td>600</td>\n",
              "      <td>160</td>\n",
              "      <td>2003.0</td>\n",
              "      <td>18300</td>\n",
              "    </tr>\n",
              "    <tr>\n",
              "      <th>1</th>\n",
              "      <td>1 Addis Way</td>\n",
              "      <td>Wandi</td>\n",
              "      <td>365000</td>\n",
              "      <td>3</td>\n",
              "      <td>2</td>\n",
              "      <td>2.0</td>\n",
              "      <td>351</td>\n",
              "      <td>139</td>\n",
              "      <td>2013.0</td>\n",
              "      <td>26900</td>\n",
              "    </tr>\n",
              "    <tr>\n",
              "      <th>2</th>\n",
              "      <td>1 Ainsley Court</td>\n",
              "      <td>Camillo</td>\n",
              "      <td>287000</td>\n",
              "      <td>3</td>\n",
              "      <td>1</td>\n",
              "      <td>1.0</td>\n",
              "      <td>719</td>\n",
              "      <td>86</td>\n",
              "      <td>1979.0</td>\n",
              "      <td>22600</td>\n",
              "    </tr>\n",
              "    <tr>\n",
              "      <th>3</th>\n",
              "      <td>1 Albert Street</td>\n",
              "      <td>Bellevue</td>\n",
              "      <td>255000</td>\n",
              "      <td>2</td>\n",
              "      <td>1</td>\n",
              "      <td>2.0</td>\n",
              "      <td>651</td>\n",
              "      <td>59</td>\n",
              "      <td>1953.0</td>\n",
              "      <td>17900</td>\n",
              "    </tr>\n",
              "    <tr>\n",
              "      <th>4</th>\n",
              "      <td>1 Aman Place</td>\n",
              "      <td>Lockridge</td>\n",
              "      <td>325000</td>\n",
              "      <td>4</td>\n",
              "      <td>1</td>\n",
              "      <td>2.0</td>\n",
              "      <td>466</td>\n",
              "      <td>131</td>\n",
              "      <td>1998.0</td>\n",
              "      <td>11200</td>\n",
              "    </tr>\n",
              "    <tr>\n",
              "      <th>...</th>\n",
              "      <td>...</td>\n",
              "      <td>...</td>\n",
              "      <td>...</td>\n",
              "      <td>...</td>\n",
              "      <td>...</td>\n",
              "      <td>...</td>\n",
              "      <td>...</td>\n",
              "      <td>...</td>\n",
              "      <td>...</td>\n",
              "      <td>...</td>\n",
              "    </tr>\n",
              "    <tr>\n",
              "      <th>33651</th>\n",
              "      <td>9C Gold Street</td>\n",
              "      <td>South Fremantle</td>\n",
              "      <td>1040000</td>\n",
              "      <td>4</td>\n",
              "      <td>3</td>\n",
              "      <td>2.0</td>\n",
              "      <td>292</td>\n",
              "      <td>245</td>\n",
              "      <td>2013.0</td>\n",
              "      <td>16100</td>\n",
              "    </tr>\n",
              "    <tr>\n",
              "      <th>33652</th>\n",
              "      <td>9C Pycombe Way</td>\n",
              "      <td>Westminster</td>\n",
              "      <td>410000</td>\n",
              "      <td>3</td>\n",
              "      <td>2</td>\n",
              "      <td>2.0</td>\n",
              "      <td>228</td>\n",
              "      <td>114</td>\n",
              "      <td>NaN</td>\n",
              "      <td>9600</td>\n",
              "    </tr>\n",
              "    <tr>\n",
              "      <th>33653</th>\n",
              "      <td>9D Pycombe Way</td>\n",
              "      <td>Westminster</td>\n",
              "      <td>427000</td>\n",
              "      <td>3</td>\n",
              "      <td>2</td>\n",
              "      <td>2.0</td>\n",
              "      <td>261</td>\n",
              "      <td>112</td>\n",
              "      <td>NaN</td>\n",
              "      <td>9600</td>\n",
              "    </tr>\n",
              "    <tr>\n",
              "      <th>33654</th>\n",
              "      <td>9D Shalford Way</td>\n",
              "      <td>Girrawheen</td>\n",
              "      <td>295000</td>\n",
              "      <td>3</td>\n",
              "      <td>1</td>\n",
              "      <td>2.0</td>\n",
              "      <td>457</td>\n",
              "      <td>85</td>\n",
              "      <td>1974.0</td>\n",
              "      <td>12600</td>\n",
              "    </tr>\n",
              "    <tr>\n",
              "      <th>33655</th>\n",
              "      <td>9E Margaret Street</td>\n",
              "      <td>Midland</td>\n",
              "      <td>295000</td>\n",
              "      <td>3</td>\n",
              "      <td>1</td>\n",
              "      <td>2.0</td>\n",
              "      <td>296</td>\n",
              "      <td>95</td>\n",
              "      <td>NaN</td>\n",
              "      <td>16700</td>\n",
              "    </tr>\n",
              "  </tbody>\n",
              "</table>\n",
              "<p>33656 rows × 10 columns</p>\n",
              "</div>"
            ],
            "text/plain": [
              "                  ADDRESS           SUBURB    PRICE  BEDROOMS  BATHROOMS  \\\n",
              "0           1 Acorn Place       South Lake   565000         4          2   \n",
              "1             1 Addis Way            Wandi   365000         3          2   \n",
              "2         1 Ainsley Court          Camillo   287000         3          1   \n",
              "3         1 Albert Street         Bellevue   255000         2          1   \n",
              "4            1 Aman Place        Lockridge   325000         4          1   \n",
              "...                   ...              ...      ...       ...        ...   \n",
              "33651      9C Gold Street  South Fremantle  1040000         4          3   \n",
              "33652      9C Pycombe Way      Westminster   410000         3          2   \n",
              "33653      9D Pycombe Way      Westminster   427000         3          2   \n",
              "33654     9D Shalford Way       Girrawheen   295000         3          1   \n",
              "33655  9E Margaret Street          Midland   295000         3          1   \n",
              "\n",
              "       GARAGE  LAND_AREA  FLOOR_AREA  BUILD_YEAR  CBD_DIST  \n",
              "0         2.0        600         160      2003.0     18300  \n",
              "1         2.0        351         139      2013.0     26900  \n",
              "2         1.0        719          86      1979.0     22600  \n",
              "3         2.0        651          59      1953.0     17900  \n",
              "4         2.0        466         131      1998.0     11200  \n",
              "...       ...        ...         ...         ...       ...  \n",
              "33651     2.0        292         245      2013.0     16100  \n",
              "33652     2.0        228         114         NaN      9600  \n",
              "33653     2.0        261         112         NaN      9600  \n",
              "33654     2.0        457          85      1974.0     12600  \n",
              "33655     2.0        296          95         NaN     16700  \n",
              "\n",
              "[33656 rows x 10 columns]"
            ]
          },
          "execution_count": 10,
          "metadata": {},
          "output_type": "execute_result"
        }
      ],
      "source": [
        "perth_house2 = perth_house.iloc[:,:10]\n",
        "perth_house2"
      ]
    },
    {
      "cell_type": "markdown",
      "metadata": {
        "id": "IKVehAJ-FKRX"
      },
      "source": [
        "### Latihan (11)\n",
        "Tampilkan data dari 'perth_house2' untuk kolom PRICE dan BEDROOMS"
      ]
    },
    {
      "cell_type": "code",
      "execution_count": null,
      "metadata": {
        "id": "IyLmjzLQFKRX",
        "outputId": "ddef8e3f-e2d8-4035-e8ba-483e37661be1"
      },
      "outputs": [
        {
          "data": {
            "text/html": [
              "<div>\n",
              "<style scoped>\n",
              "    .dataframe tbody tr th:only-of-type {\n",
              "        vertical-align: middle;\n",
              "    }\n",
              "\n",
              "    .dataframe tbody tr th {\n",
              "        vertical-align: top;\n",
              "    }\n",
              "\n",
              "    .dataframe thead th {\n",
              "        text-align: right;\n",
              "    }\n",
              "</style>\n",
              "<table border=\"1\" class=\"dataframe\">\n",
              "  <thead>\n",
              "    <tr style=\"text-align: right;\">\n",
              "      <th></th>\n",
              "      <th>PRICE</th>\n",
              "      <th>BEDROOMS</th>\n",
              "    </tr>\n",
              "  </thead>\n",
              "  <tbody>\n",
              "    <tr>\n",
              "      <th>0</th>\n",
              "      <td>565000</td>\n",
              "      <td>4</td>\n",
              "    </tr>\n",
              "    <tr>\n",
              "      <th>1</th>\n",
              "      <td>365000</td>\n",
              "      <td>3</td>\n",
              "    </tr>\n",
              "    <tr>\n",
              "      <th>2</th>\n",
              "      <td>287000</td>\n",
              "      <td>3</td>\n",
              "    </tr>\n",
              "    <tr>\n",
              "      <th>3</th>\n",
              "      <td>255000</td>\n",
              "      <td>2</td>\n",
              "    </tr>\n",
              "    <tr>\n",
              "      <th>4</th>\n",
              "      <td>325000</td>\n",
              "      <td>4</td>\n",
              "    </tr>\n",
              "    <tr>\n",
              "      <th>...</th>\n",
              "      <td>...</td>\n",
              "      <td>...</td>\n",
              "    </tr>\n",
              "    <tr>\n",
              "      <th>33651</th>\n",
              "      <td>1040000</td>\n",
              "      <td>4</td>\n",
              "    </tr>\n",
              "    <tr>\n",
              "      <th>33652</th>\n",
              "      <td>410000</td>\n",
              "      <td>3</td>\n",
              "    </tr>\n",
              "    <tr>\n",
              "      <th>33653</th>\n",
              "      <td>427000</td>\n",
              "      <td>3</td>\n",
              "    </tr>\n",
              "    <tr>\n",
              "      <th>33654</th>\n",
              "      <td>295000</td>\n",
              "      <td>3</td>\n",
              "    </tr>\n",
              "    <tr>\n",
              "      <th>33655</th>\n",
              "      <td>295000</td>\n",
              "      <td>3</td>\n",
              "    </tr>\n",
              "  </tbody>\n",
              "</table>\n",
              "<p>33656 rows × 2 columns</p>\n",
              "</div>"
            ],
            "text/plain": [
              "         PRICE  BEDROOMS\n",
              "0       565000         4\n",
              "1       365000         3\n",
              "2       287000         3\n",
              "3       255000         2\n",
              "4       325000         4\n",
              "...        ...       ...\n",
              "33651  1040000         4\n",
              "33652   410000         3\n",
              "33653   427000         3\n",
              "33654   295000         3\n",
              "33655   295000         3\n",
              "\n",
              "[33656 rows x 2 columns]"
            ]
          },
          "execution_count": 11,
          "metadata": {},
          "output_type": "execute_result"
        }
      ],
      "source": [
        "perth_house3 = perth_house2.iloc[:, [2,3]]\n",
        "perth_house3"
      ]
    },
    {
      "cell_type": "markdown",
      "metadata": {
        "id": "9T5HhZZyFKRX"
      },
      "source": [
        "### Latihan (12)\n",
        "Tampilkan data dari 'perth_house3' untuk kolom PRICE dan BEDROOMS, mulai dari indeks 0 sampai dengan indeks 10"
      ]
    },
    {
      "cell_type": "code",
      "execution_count": null,
      "metadata": {
        "id": "aQbict6eFKRX",
        "outputId": "7b9b41e2-f7dc-4c78-f6c2-7b81c9cc17dc"
      },
      "outputs": [
        {
          "data": {
            "text/html": [
              "<div>\n",
              "<style scoped>\n",
              "    .dataframe tbody tr th:only-of-type {\n",
              "        vertical-align: middle;\n",
              "    }\n",
              "\n",
              "    .dataframe tbody tr th {\n",
              "        vertical-align: top;\n",
              "    }\n",
              "\n",
              "    .dataframe thead th {\n",
              "        text-align: right;\n",
              "    }\n",
              "</style>\n",
              "<table border=\"1\" class=\"dataframe\">\n",
              "  <thead>\n",
              "    <tr style=\"text-align: right;\">\n",
              "      <th></th>\n",
              "      <th>PRICE</th>\n",
              "      <th>BEDROOMS</th>\n",
              "    </tr>\n",
              "  </thead>\n",
              "  <tbody>\n",
              "    <tr>\n",
              "      <th>0</th>\n",
              "      <td>565000</td>\n",
              "      <td>4</td>\n",
              "    </tr>\n",
              "    <tr>\n",
              "      <th>1</th>\n",
              "      <td>365000</td>\n",
              "      <td>3</td>\n",
              "    </tr>\n",
              "    <tr>\n",
              "      <th>2</th>\n",
              "      <td>287000</td>\n",
              "      <td>3</td>\n",
              "    </tr>\n",
              "    <tr>\n",
              "      <th>3</th>\n",
              "      <td>255000</td>\n",
              "      <td>2</td>\n",
              "    </tr>\n",
              "    <tr>\n",
              "      <th>4</th>\n",
              "      <td>325000</td>\n",
              "      <td>4</td>\n",
              "    </tr>\n",
              "    <tr>\n",
              "      <th>5</th>\n",
              "      <td>409000</td>\n",
              "      <td>4</td>\n",
              "    </tr>\n",
              "    <tr>\n",
              "      <th>6</th>\n",
              "      <td>400000</td>\n",
              "      <td>3</td>\n",
              "    </tr>\n",
              "    <tr>\n",
              "      <th>7</th>\n",
              "      <td>370000</td>\n",
              "      <td>4</td>\n",
              "    </tr>\n",
              "    <tr>\n",
              "      <th>8</th>\n",
              "      <td>565000</td>\n",
              "      <td>4</td>\n",
              "    </tr>\n",
              "    <tr>\n",
              "      <th>9</th>\n",
              "      <td>685000</td>\n",
              "      <td>3</td>\n",
              "    </tr>\n",
              "    <tr>\n",
              "      <th>10</th>\n",
              "      <td>675000</td>\n",
              "      <td>4</td>\n",
              "    </tr>\n",
              "  </tbody>\n",
              "</table>\n",
              "</div>"
            ],
            "text/plain": [
              "     PRICE  BEDROOMS\n",
              "0   565000         4\n",
              "1   365000         3\n",
              "2   287000         3\n",
              "3   255000         2\n",
              "4   325000         4\n",
              "5   409000         4\n",
              "6   400000         3\n",
              "7   370000         4\n",
              "8   565000         4\n",
              "9   685000         3\n",
              "10  675000         4"
            ]
          },
          "execution_count": 12,
          "metadata": {},
          "output_type": "execute_result"
        }
      ],
      "source": [
        "perth_house3 = perth_house2.iloc[:11, [2,3]]\n",
        "perth_house3"
      ]
    },
    {
      "cell_type": "markdown",
      "metadata": {
        "id": "9oLlitf4FKRX"
      },
      "source": [
        "# Pengunaan Library Matplotlib"
      ]
    },
    {
      "cell_type": "markdown",
      "metadata": {
        "id": "g7e2U-ybFKRY"
      },
      "source": [
        "### Latihan (13)\n",
        "Lakukan Import Library Matplotlib"
      ]
    },
    {
      "cell_type": "code",
      "execution_count": null,
      "metadata": {
        "id": "bh8hNqAlFKRY"
      },
      "outputs": [],
      "source": [
        "import matplotlib.pyplot as plt"
      ]
    },
    {
      "cell_type": "markdown",
      "metadata": {
        "id": "oHnmCVg3FKRY"
      },
      "source": [
        "### Latihan (14)\n",
        "Membuat visualisasi dalam bentuk histogram pada data 'perth_house3' untuk kolom PRICE"
      ]
    },
    {
      "cell_type": "code",
      "execution_count": null,
      "metadata": {
        "id": "29NoweokFKRY",
        "outputId": "17354888-6d8c-4c77-f260-45104904f68a"
      },
      "outputs": [
        {
          "data": {
            "text/plain": [
              "array([[<AxesSubplot:title={'center':'PRICE'}>]], dtype=object)"
            ]
          },
          "execution_count": 14,
          "metadata": {},
          "output_type": "execute_result"
        },
        {
          "data": {
            "image/png": "[encoded data removed]",
            "text/plain": [
              "<Figure size 432x288 with 1 Axes>"
            ]
          },
          "metadata": {
            "needs_background": "light"
          },
          "output_type": "display_data"
        }
      ],
      "source": [
        "perth_house2.hist(column='PRICE', bins=20, color='#F48888')"
      ]
    },
    {
      "cell_type": "markdown",
      "metadata": {
        "id": "ed2aCZq7FKRY"
      },
      "source": [
        "### Latihan (15)\n",
        "Membuat visualisasi dalam bentuk grafik (plot) pada data 'perth_house2' untuk kolom BATHROOMS dan kolom BEDROOMS"
      ]
    },
    {
      "cell_type": "code",
      "execution_count": null,
      "metadata": {
        "id": "L6y4vxY1FKRZ",
        "outputId": "dbeb5bc9-2b17-40fd-b9af-e1698e502361"
      },
      "outputs": [
        {
          "data": {
            "text/plain": [
              "Text(0, 0.5, 'Jumlah di seluruh Rumah')"
            ]
          },
          "execution_count": 15,
          "metadata": {},
          "output_type": "execute_result"
        },
        {
          "data": {
            "image/png": "[encoded data removed]",
            "text/plain": [
              "<Figure size 864x576 with 1 Axes>"
            ]
          },
          "metadata": {
            "needs_background": "light"
          },
          "output_type": "display_data"
        }
      ],
      "source": [
        "perth_house2[['BATHROOMS', 'BEDROOMS']].plot(kind = 'hist',\n",
        "                                        alpha = 0.7,\n",
        "                                        bins = 30,\n",
        "                                        title = 'Plot Grafik bentuk Histogram dari Bathrooms dan Bedrooms',\n",
        "                                        grid = True,\n",
        "                                        figsize = (12,8),\n",
        "                                        fontsize = 15,\n",
        "                                        color = ['#F48888', '#F1E1A6'])\n",
        "plt.xlabel('Jumlah di Rumah')\n",
        "plt.ylabel('Jumlah di seluruh Rumah')"
      ]
    },
    {
      "cell_type": "markdown",
      "metadata": {
        "id": "1WKJwJLLFKRZ"
      },
      "source": [
        "### Latihan (16)\n",
        "Membuat visualisasi dalam bentuk grafik (plot) pada data 'perth_house2' untuk kolom BEDROOMS dan kolom BATHROOMS"
      ]
    },
    {
      "cell_type": "code",
      "execution_count": null,
      "metadata": {
        "id": "9kGHIJ5NFKRZ",
        "outputId": "2620ef43-5365-41c1-a7af-dedc10f2a140"
      },
      "outputs": [
        {
          "data": {
            "text/plain": [
              "Text(0, 0.5, 'Jumlah di seluruh Rumah')"
            ]
          },
          "execution_count": 16,
          "metadata": {},
          "output_type": "execute_result"
        },
        {
          "data": {
            "image/png": "[encoded data removed]",
            "text/plain": [
              "<Figure size 864x576 with 1 Axes>"
            ]
          },
          "metadata": {
            "needs_background": "light"
          },
          "output_type": "display_data"
        }
      ],
      "source": [
        "perth_house2[['BEDROOMS', 'BATHROOMS']].plot(kind = 'hist',\n",
        "                                        alpha = 0.7,\n",
        "                                        bins = 30,\n",
        "                                        title = 'Plot Grafik bentuk Histogram dari Bedrooms dan Bathrooms',\n",
        "                                        grid = True,\n",
        "                                        figsize = (12,8),\n",
        "                                        fontsize = 15,\n",
        "                                        color = ['#F48888', '#F1E1A6'])\n",
        "plt.xlabel('Jumlah di Rumah')\n",
        "plt.ylabel('Jumlah di seluruh Rumah')"
      ]
    },
    {
      "cell_type": "markdown",
      "metadata": {
        "id": "eMZsr5GzFKRZ"
      },
      "source": [
        "### Latihan (17)\n",
        "Import Library Seaborn"
      ]
    },
    {
      "cell_type": "code",
      "execution_count": null,
      "metadata": {
        "id": "6xTkHHbyFKRZ"
      },
      "outputs": [],
      "source": [
        "import seaborn as sns"
      ]
    },
    {
      "cell_type": "markdown",
      "metadata": {
        "id": "QNoa6osgFKRa"
      },
      "source": [
        "### Latihan (18) \n",
        "Membuat visualisasi dalam bentuk scatterplot pada data 'perth_house2' untuk PRICE dan BEDROOMS"
      ]
    },
    {
      "cell_type": "code",
      "execution_count": null,
      "metadata": {
        "id": "8iCXE2EcFKRa",
        "outputId": "6ca21810-61fb-4dbc-b40e-32fd99044f64"
      },
      "outputs": [
        {
          "data": {
            "image/png": "[encoded data removed]",
            "text/plain": [
              "<Figure size 432x288 with 1 Axes>"
            ]
          },
          "metadata": {
            "needs_background": "light"
          },
          "output_type": "display_data"
        }
      ],
      "source": [
        "price = perth_house2['PRICE']\n",
        "bedrooms = perth_house2['BEDROOMS']\n",
        "\n",
        "plt.scatter(bedrooms, price)\n",
        "plt.show()"
      ]
    },
    {
      "cell_type": "markdown",
      "metadata": {
        "id": "tvPFRh6JFKRa"
      },
      "source": [
        "### Latihan (19)\n",
        "Membuat visualisasi dalam bentuk scatterplot pada data 'perth_house2' untuk BEDROOMS DAN PRICE"
      ]
    },
    {
      "cell_type": "code",
      "execution_count": null,
      "metadata": {
        "id": "1GvXQxt5FKRa",
        "outputId": "13683fb9-e66e-48e3-b375-8700fe21650e"
      },
      "outputs": [
        {
          "data": {
            "image/png": "[encoded data removed]",
            "text/plain": [
              "<Figure size 432x288 with 1 Axes>"
            ]
          },
          "metadata": {
            "needs_background": "light"
          },
          "output_type": "display_data"
        }
      ],
      "source": [
        "price = perth_house2['PRICE']\n",
        "bedrooms = perth_house2['BEDROOMS']\n",
        "\n",
        "plt.scatter(price, bedrooms)\n",
        "plt.show()"
      ]
    },
    {
      "cell_type": "markdown",
      "metadata": {
        "id": "vuE955YFFKRa"
      },
      "source": [
        "### Latihan (20)\n",
        "Membuat visualisasi dalam bentuk histogram pada data 'perth_house' untuk kolom BEDROOMS"
      ]
    },
    {
      "cell_type": "code",
      "execution_count": null,
      "metadata": {
        "id": "vn5T4fJbFKRa",
        "outputId": "a5355841-7be0-4767-dc5a-f2964cd80548"
      },
      "outputs": [
        {
          "data": {
            "text/plain": [
              "array([[<AxesSubplot:title={'center':'BEDROOMS'}>]], dtype=object)"
            ]
          },
          "execution_count": 20,
          "metadata": {},
          "output_type": "execute_result"
        },
        {
          "data": {
            "image/png": "[encoded data removed]",
            "text/plain": [
              "<Figure size 432x288 with 1 Axes>"
            ]
          },
          "metadata": {
            "needs_background": "light"
          },
          "output_type": "display_data"
        }
      ],
      "source": [
        "perth_house2.hist(column='BEDROOMS', bins=20, color='#F48888')"
      ]
    }
  ],
  "metadata": {
    "kernelspec": {
      "display_name": "Python 3",
      "language": "python",
      "name": "python3"
    },
    "language_info": {
      "codemirror_mode": {
        "name": "ipython",
        "version": 3
      },
      "file_extension": ".py",
      "mimetype": "text/x-python",
      "name": "python",
      "nbconvert_exporter": "python",
      "pygments_lexer": "ipython3",
      "version": "3.8.5"
    },
    "colab": {
      "name": "data_visualization2.ipynb",
      "provenance": [],
      "include_colab_link": true
    }
  },
  "nbformat": 4,
  "nbformat_minor": 0
}